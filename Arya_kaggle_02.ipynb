{
  "nbformat": 4,
  "nbformat_minor": 0,
  "metadata": {
    "colab": {
      "provenance": [],
      "toc_visible": true,
      "include_colab_link": true
    },
    "kernelspec": {
      "name": "python3",
      "display_name": "Python 3"
    },
    "language_info": {
      "name": "python"
    }
  },
  "cells": [
    {
      "cell_type": "markdown",
      "metadata": {
        "id": "view-in-github",
        "colab_type": "text"
      },
      "source": [
        "<a href=\"https://colab.research.google.com/github/Arya-86/ML_stacked_models/blob/main/Arya_kaggle_02.ipynb\" target=\"_parent\"><img src=\"https://colab.research.google.com/assets/colab-badge.svg\" alt=\"Open In Colab\"/></a>"
      ]
    },
    {
      "cell_type": "markdown",
      "source": [
        "# Predicting Protein Expression Profiles in Single-Cell Sequencing Data Using Machine Learning Algorithms.\n",
        "\n",
        "Arya Jadhav, Eva R. Pandey, and Jude Nogotey"
      ],
      "metadata": {
        "id": "2NLE8oFoNTZ8"
      }
    },
    {
      "cell_type": "markdown",
      "source": [
        "#Introduction"
      ],
      "metadata": {
        "id": "gqh-CvVvzKMW"
      }
    },
    {
      "cell_type": "markdown",
      "source": [
        "This project tackles a cutting-edge biological challenge using CITE-seq, an innovative single-cell sequencing technology. CITE-seq allows for simultaneous measurement of gene and cell-surface protein expressions within individual cells, positioning it at the forefront of multi-modal analysis. This dual measurement capability offers a comprehensive view of the relationships between specific protein markers—key indicators of cell types—and transcriptional activities. Such insights enhance our understanding of complex cellular functions.\n",
        "\n",
        "Our objective was to predict the protein expression profiles of 25 specific proteins in 1000 test cells, using gene expression data from 639 genes. The training dataset includes data from 4000 cells, providing complete profiles for both proteins and genes. The challenge goes beyond accurate prediction; it aims to deepen our understanding of the biological interplay between gene expression and protein presence.\n",
        "\n",
        "We employed a range of machine learning models and techniques, including Adam, AdamW, and PCA. Advanced hyperparameter tuning and regularization were key components of our approach. Additionally, we utilized ensemble methods, integrating stacked models with meta-models like Random Forest and XGBoost to enhance the accuracy of our predictions."
      ],
      "metadata": {
        "id": "5KFK7nis32Vq"
      }
    },
    {
      "cell_type": "markdown",
      "source": [
        "# **Approach**"
      ],
      "metadata": {
        "id": "5ao2MwjFnJ0g"
      }
    },
    {
      "cell_type": "markdown",
      "source": [
        "## Data pre-processing\n",
        "\n",
        "We used PCA to reduce the dimensionality of the data and also used RobustScaler for standardizing the data. For regularization we used elastic net regularization by using L1 and L2."
      ],
      "metadata": {
        "id": "D6YqVrlO6ulx"
      }
    },
    {
      "cell_type": "markdown",
      "source": [
        "## Set-up"
      ],
      "metadata": {
        "id": "mvZkbCElH9Cz"
      }
    },
    {
      "cell_type": "code",
      "source": [
        "from google.colab import drive\n",
        "drive.mount('/content/drive')"
      ],
      "metadata": {
        "colab": {
          "base_uri": "https://localhost:8080/"
        },
        "id": "4lp3_CQArGIC",
        "outputId": "488a8ac5-9842-4136-bc8a-9898ca004e82"
      },
      "execution_count": null,
      "outputs": [
        {
          "output_type": "stream",
          "name": "stdout",
          "text": [
            "Mounted at /content/drive\n"
          ]
        }
      ]
    },
    {
      "cell_type": "code",
      "execution_count": null,
      "metadata": {
        "id": "NQRO9eRvsCnm"
      },
      "outputs": [],
      "source": [
        "import numpy as np\n",
        "import pandas as pd\n",
        "from sklearn.model_selection import train_test_split\n",
        "import tensorflow as tf\n",
        "import torch\n",
        "from tensorflow.keras.models import Sequential\n",
        "from tensorflow.keras.layers import Dense"
      ]
    },
    {
      "cell_type": "code",
      "source": [
        "!pip install tensorflow-addons\n"
      ],
      "metadata": {
        "id": "JwBM6Ukz_z4D",
        "colab": {
          "base_uri": "https://localhost:8080/"
        },
        "outputId": "295dd51b-fd72-41ab-f37b-ecfbfd5e6779"
      },
      "execution_count": null,
      "outputs": [
        {
          "output_type": "stream",
          "name": "stdout",
          "text": [
            "Collecting tensorflow-addons\n",
            "  Downloading tensorflow_addons-0.23.0-cp310-cp310-manylinux_2_17_x86_64.manylinux2014_x86_64.whl (611 kB)\n",
            "\u001b[2K     \u001b[90m━━━━━━━━━━━━━━━━━━━━━━━━━━━━━━━━━━━━━━━━\u001b[0m \u001b[32m611.8/611.8 kB\u001b[0m \u001b[31m4.4 MB/s\u001b[0m eta \u001b[36m0:00:00\u001b[0m\n",
            "\u001b[?25hRequirement already satisfied: packaging in /usr/local/lib/python3.10/dist-packages (from tensorflow-addons) (24.0)\n",
            "Collecting typeguard<3.0.0,>=2.7 (from tensorflow-addons)\n",
            "  Downloading typeguard-2.13.3-py3-none-any.whl (17 kB)\n",
            "Installing collected packages: typeguard, tensorflow-addons\n",
            "Successfully installed tensorflow-addons-0.23.0 typeguard-2.13.3\n"
          ]
        }
      ]
    },
    {
      "cell_type": "markdown",
      "source": [
        "You would need to load your own dataset"
      ],
      "metadata": {
        "id": "R35o4wNdxEvQ"
      }
    },
    {
      "cell_type": "code",
      "source": [
        "# Load the data\n",
        "training_rna = pd.read_csv(\"/content/drive/MyDrive/CIS_678/Challenge_02/training_set_rna.csv\", index_col=0).T\n",
        "training_adt = pd.read_csv(\"/content/drive/MyDrive/CIS_678/Challenge_02/training_set_adt.csv\", index_col=0).T\n",
        "new_data_rna = pd.read_csv(\"/content/drive/MyDrive/CIS_678/Challenge_02/test_set_rna.csv\", index_col=0).T"
      ],
      "metadata": {
        "id": "ZzvCVEIbtU_A"
      },
      "execution_count": null,
      "outputs": []
    },
    {
      "cell_type": "code",
      "source": [
        "# Split the data into training and validation sets\n",
        "x_train, x_val, y_train, y_val = train_test_split(training_rna, training_adt, test_size=0.3, random_state=123)"
      ],
      "metadata": {
        "id": "lISxKOYytyIq"
      },
      "execution_count": null,
      "outputs": []
    },
    {
      "cell_type": "markdown",
      "source": [
        "##Defining Functions"
      ],
      "metadata": {
        "id": "XZvBnwNUn9aL"
      }
    },
    {
      "cell_type": "markdown",
      "source": [
        "Function for training the model:"
      ],
      "metadata": {
        "id": "KXCxBWvUoO61"
      }
    },
    {
      "cell_type": "code",
      "source": [
        "#!pip install tensorflow\n",
        "import tensorflow as tf\n",
        "#!pip install tensorflow_addons\n",
        "import tensorflow_addons as tfa\n",
        "#from kerastuner import HyperModel\n",
        "from tensorflow.keras import regularizers\n",
        "from sklearn.preprocessing import RobustScaler\n",
        "from sklearn.decomposition import PCA\n",
        "import matplotlib.pyplot as plt\n",
        "from tensorflow.keras.callbacks import LearningRateScheduler\n",
        "\n",
        "# Define a schedule function that takes an epoch index (integer, indexed from 0) and current learning rate\n",
        "def scheduler(epoch, lr):\n",
        "    if epoch < 10:\n",
        "        return lr\n",
        "    else:\n",
        "        return lr * tf.math.exp(-0.1)\n",
        "\n",
        "# Add the LearningRateScheduler callback to the list of callbacks\n",
        "def train_model(x_train, y_train, x_val, y_val, model, n_components=None, n_epochs=100, batch_size=32, seed=None):\n",
        "    if seed:\n",
        "        tf.random.set_seed(seed)\n",
        "\n",
        "    scaler = RobustScaler()\n",
        "    x_train_scaled = scaler.fit_transform(x_train)\n",
        "    x_val_scaled = scaler.transform(x_val)\n",
        "\n",
        "    if n_components:\n",
        "        pca = PCA(n_components=n_components)\n",
        "        x_train_scaled = pca.fit_transform(x_train_scaled)\n",
        "        x_val_scaled = pca.transform(x_val_scaled)\n",
        "\n",
        "    # Include the LearningRateScheduler in the callbacks\n",
        "    callbacks = [\n",
        "        tf.keras.callbacks.EarlyStopping(patience=10, restore_best_weights=True),\n",
        "        LearningRateScheduler(scheduler)\n",
        "    ]\n",
        "\n",
        "    history = model.fit(x_train_scaled, y_train, epochs=n_epochs, batch_size=batch_size,\n",
        "                        validation_data=(x_val_scaled, y_val), callbacks=callbacks)\n",
        "\n",
        "    val_loss = model.evaluate(x_val_scaled, y_val)\n",
        "    print(\"Validation Loss:\", val_loss)\n",
        "\n",
        "    plt.plot(history.history['loss'], label='Training Loss')\n",
        "    plt.plot(history.history['val_loss'], label='Validation Loss')\n",
        "    plt.xlabel('Epoch')\n",
        "    plt.ylabel('Loss')\n",
        "    plt.legend()\n",
        "    plt.show()"
      ],
      "metadata": {
        "id": "XE_1IrrOoFGo"
      },
      "execution_count": null,
      "outputs": []
    },
    {
      "cell_type": "markdown",
      "source": [
        "##Algorithm"
      ],
      "metadata": {
        "id": "uMouek5pojNU"
      }
    },
    {
      "cell_type": "markdown",
      "source": [
        "The best approach that worked for us was that of using a stacking method, where we trained 5 different models using varied optimizers and acitvation functions. At the end, we trained a Random Forest meta-model that trained on the predictons of the base models, learning from their features and thus making it a robust and generalizable model."
      ],
      "metadata": {
        "id": "-CZFGP0EonIr"
      }
    },
    {
      "cell_type": "markdown",
      "source": [
        "###Model 1 - AdamW"
      ],
      "metadata": {
        "id": "EtYqKNh0jMwq"
      }
    },
    {
      "cell_type": "markdown",
      "source": [
        " By incorporating weight decay directly into the optimization process, AdamW provides regularization, which is crucial for preventing the model from memorizing the training data and instead encourages it to learn meaningful patterns. This is particularly important for datasets like these, where there may be complex relationships between features and targets and a risk of overfitting due to high dimensionality. Overall, AdamW helps ensure more stable and efficient optimization, leading to better performance on unseen data."
      ],
      "metadata": {
        "id": "wZmUkDZMpXBJ"
      }
    },
    {
      "cell_type": "code",
      "source": [
        "from sklearn.preprocessing import RobustScaler\n",
        "from tensorflow.keras.models import Sequential\n",
        "from tensorflow.keras.layers import Dense, Dropout\n",
        "import tensorflow_addons as tfa\n",
        "from sklearn.decomposition import PCA\n",
        "from tensorflow.keras.regularizers import l1_l2\n",
        "\n",
        "scaler = RobustScaler()\n",
        "x_train_scaled = scaler.fit_transform(x_train)\n",
        "x_val_scaled = scaler.transform(x_val)  # Use the same scaler to ensure consistency\n",
        "\n",
        "\n",
        "\n",
        "pca = PCA(n_components=0.70)  # Retaining 70% of variance\n",
        "X_pca = pca.fit_transform(x_train_scaled)\n",
        "# X_val_pca = pca.transform(x_val_scaled)  # Transform the validation RNA data with the trained PCA\n",
        "\n",
        "n_features = X_pca.shape[1]\n",
        "\n",
        "# Define your l1 and l2 regularization factors\n",
        "l1_factor = 1e-5  # Example value, should be tuned\n",
        "l2_factor = 1e-4  # Example value, should be tuned\n",
        "\n",
        "model1 = Sequential([\n",
        "    Dense(70, activation='sigmoid', input_shape=(n_features,), kernel_regularizer=l1_l2(l1=l1_factor, l2=l2_factor)),\n",
        "    Dropout(0.25),\n",
        "    Dense(50, activation='mish', kernel_regularizer=l1_l2(l1=l1_factor, l2=l2_factor)),\n",
        "    Dense(25, activation='linear', kernel_regularizer=l1_l2(l1=l1_factor, l2=l2_factor))\n",
        "])\n",
        "\n",
        "# Adjust the learning rate to a new value, for example, increasing it to 1e-3\n",
        "new_learning_rate = 0.001  # A larger learning rate\n",
        "\n",
        "model1.compile(\n",
        "    optimizer=tfa.optimizers.AdamW(learning_rate=new_learning_rate, weight_decay=1e-5),\n",
        "    loss='mean_squared_error'\n",
        ")"
      ],
      "metadata": {
        "id": "T_KHJPJOjg0o"
      },
      "execution_count": null,
      "outputs": []
    },
    {
      "cell_type": "code",
      "source": [
        "train_model(x_train, y_train, x_val, y_val, model=model1, n_components=0.70, n_epochs=500, batch_size=50)"
      ],
      "metadata": {
        "id": "vhmBk2233agC",
        "colab": {
          "base_uri": "https://localhost:8080/",
          "height": 1000
        },
        "outputId": "fd1e9a3a-0d71-4ea8-f7a4-1313afb041c5"
      },
      "execution_count": null,
      "outputs": [
        {
          "output_type": "stream",
          "name": "stdout",
          "text": [
            "Epoch 1/500\n",
            "56/56 [==============================] - 1s 6ms/step - loss: 0.7626 - val_loss: 0.4263 - lr: 0.0010\n",
            "Epoch 2/500\n",
            "56/56 [==============================] - 0s 4ms/step - loss: 0.4267 - val_loss: 0.3214 - lr: 0.0010\n",
            "Epoch 3/500\n",
            "56/56 [==============================] - 0s 3ms/step - loss: 0.3440 - val_loss: 0.2769 - lr: 0.0010\n",
            "Epoch 4/500\n",
            "56/56 [==============================] - 0s 4ms/step - loss: 0.3067 - val_loss: 0.2489 - lr: 0.0010\n",
            "Epoch 5/500\n",
            "56/56 [==============================] - 0s 4ms/step - loss: 0.2779 - val_loss: 0.2307 - lr: 0.0010\n",
            "Epoch 6/500\n",
            "56/56 [==============================] - 0s 3ms/step - loss: 0.2573 - val_loss: 0.2155 - lr: 0.0010\n",
            "Epoch 7/500\n",
            "56/56 [==============================] - 0s 4ms/step - loss: 0.2412 - val_loss: 0.2063 - lr: 0.0010\n",
            "Epoch 8/500\n",
            "56/56 [==============================] - 0s 3ms/step - loss: 0.2305 - val_loss: 0.2022 - lr: 0.0010\n",
            "Epoch 9/500\n",
            "56/56 [==============================] - 0s 4ms/step - loss: 0.2210 - val_loss: 0.1957 - lr: 0.0010\n",
            "Epoch 10/500\n",
            "56/56 [==============================] - 0s 4ms/step - loss: 0.2143 - val_loss: 0.1918 - lr: 0.0010\n",
            "Epoch 11/500\n",
            "56/56 [==============================] - 0s 4ms/step - loss: 0.2100 - val_loss: 0.1888 - lr: 9.0484e-04\n",
            "Epoch 12/500\n",
            "56/56 [==============================] - 0s 4ms/step - loss: 0.2057 - val_loss: 0.1872 - lr: 8.1873e-04\n",
            "Epoch 13/500\n",
            "56/56 [==============================] - 0s 4ms/step - loss: 0.2006 - val_loss: 0.1841 - lr: 7.4082e-04\n",
            "Epoch 14/500\n",
            "56/56 [==============================] - 0s 4ms/step - loss: 0.1979 - val_loss: 0.1821 - lr: 6.7032e-04\n",
            "Epoch 15/500\n",
            "56/56 [==============================] - 0s 3ms/step - loss: 0.1941 - val_loss: 0.1806 - lr: 6.0653e-04\n",
            "Epoch 16/500\n",
            "56/56 [==============================] - 0s 4ms/step - loss: 0.1928 - val_loss: 0.1800 - lr: 5.4881e-04\n",
            "Epoch 17/500\n",
            "56/56 [==============================] - 0s 4ms/step - loss: 0.1893 - val_loss: 0.1787 - lr: 4.9659e-04\n",
            "Epoch 18/500\n",
            "56/56 [==============================] - 0s 3ms/step - loss: 0.1880 - val_loss: 0.1771 - lr: 4.4933e-04\n",
            "Epoch 19/500\n",
            "56/56 [==============================] - 0s 4ms/step - loss: 0.1871 - val_loss: 0.1763 - lr: 4.0657e-04\n",
            "Epoch 20/500\n",
            "56/56 [==============================] - 0s 3ms/step - loss: 0.1847 - val_loss: 0.1758 - lr: 3.6788e-04\n",
            "Epoch 21/500\n",
            "56/56 [==============================] - 0s 4ms/step - loss: 0.1841 - val_loss: 0.1745 - lr: 3.3287e-04\n",
            "Epoch 22/500\n",
            "56/56 [==============================] - 0s 4ms/step - loss: 0.1823 - val_loss: 0.1740 - lr: 3.0119e-04\n",
            "Epoch 23/500\n",
            "56/56 [==============================] - 0s 4ms/step - loss: 0.1813 - val_loss: 0.1743 - lr: 2.7253e-04\n",
            "Epoch 24/500\n",
            "56/56 [==============================] - 0s 3ms/step - loss: 0.1805 - val_loss: 0.1730 - lr: 2.4660e-04\n",
            "Epoch 25/500\n",
            "56/56 [==============================] - 0s 4ms/step - loss: 0.1821 - val_loss: 0.1725 - lr: 2.2313e-04\n",
            "Epoch 26/500\n",
            "56/56 [==============================] - 0s 4ms/step - loss: 0.1793 - val_loss: 0.1722 - lr: 2.0190e-04\n",
            "Epoch 27/500\n",
            "56/56 [==============================] - 0s 3ms/step - loss: 0.1795 - val_loss: 0.1718 - lr: 1.8268e-04\n",
            "Epoch 28/500\n",
            "56/56 [==============================] - 0s 3ms/step - loss: 0.1784 - val_loss: 0.1719 - lr: 1.6530e-04\n",
            "Epoch 29/500\n",
            "56/56 [==============================] - 0s 3ms/step - loss: 0.1795 - val_loss: 0.1711 - lr: 1.4957e-04\n",
            "Epoch 30/500\n",
            "56/56 [==============================] - 0s 3ms/step - loss: 0.1787 - val_loss: 0.1711 - lr: 1.3534e-04\n",
            "Epoch 31/500\n",
            "56/56 [==============================] - 0s 4ms/step - loss: 0.1768 - val_loss: 0.1707 - lr: 1.2246e-04\n",
            "Epoch 32/500\n",
            "56/56 [==============================] - 0s 3ms/step - loss: 0.1772 - val_loss: 0.1706 - lr: 1.1080e-04\n",
            "Epoch 33/500\n",
            "56/56 [==============================] - 0s 4ms/step - loss: 0.1767 - val_loss: 0.1702 - lr: 1.0026e-04\n",
            "Epoch 34/500\n",
            "56/56 [==============================] - 0s 4ms/step - loss: 0.1756 - val_loss: 0.1700 - lr: 9.0718e-05\n",
            "Epoch 35/500\n",
            "56/56 [==============================] - 0s 7ms/step - loss: 0.1768 - val_loss: 0.1701 - lr: 8.2085e-05\n",
            "Epoch 36/500\n",
            "56/56 [==============================] - 0s 5ms/step - loss: 0.1764 - val_loss: 0.1699 - lr: 7.4273e-05\n",
            "Epoch 37/500\n",
            "56/56 [==============================] - 0s 5ms/step - loss: 0.1737 - val_loss: 0.1696 - lr: 6.7205e-05\n",
            "Epoch 38/500\n",
            "56/56 [==============================] - 0s 7ms/step - loss: 0.1742 - val_loss: 0.1695 - lr: 6.0810e-05\n",
            "Epoch 39/500\n",
            "56/56 [==============================] - 0s 5ms/step - loss: 0.1742 - val_loss: 0.1695 - lr: 5.5023e-05\n",
            "Epoch 40/500\n",
            "56/56 [==============================] - 0s 5ms/step - loss: 0.1763 - val_loss: 0.1693 - lr: 4.9787e-05\n",
            "Epoch 41/500\n",
            "56/56 [==============================] - 0s 5ms/step - loss: 0.1758 - val_loss: 0.1693 - lr: 4.5049e-05\n",
            "Epoch 42/500\n",
            "56/56 [==============================] - 0s 5ms/step - loss: 0.1753 - val_loss: 0.1692 - lr: 4.0762e-05\n",
            "Epoch 43/500\n",
            "56/56 [==============================] - 0s 5ms/step - loss: 0.1743 - val_loss: 0.1692 - lr: 3.6883e-05\n",
            "Epoch 44/500\n",
            "56/56 [==============================] - 0s 5ms/step - loss: 0.1750 - val_loss: 0.1692 - lr: 3.3373e-05\n",
            "Epoch 45/500\n",
            "56/56 [==============================] - 0s 5ms/step - loss: 0.1742 - val_loss: 0.1692 - lr: 3.0197e-05\n",
            "Epoch 46/500\n",
            "56/56 [==============================] - 0s 4ms/step - loss: 0.1749 - val_loss: 0.1691 - lr: 2.7324e-05\n",
            "Epoch 47/500\n",
            "56/56 [==============================] - 0s 4ms/step - loss: 0.1736 - val_loss: 0.1691 - lr: 2.4723e-05\n",
            "Epoch 48/500\n",
            "56/56 [==============================] - 0s 4ms/step - loss: 0.1749 - val_loss: 0.1690 - lr: 2.2371e-05\n",
            "Epoch 49/500\n",
            "56/56 [==============================] - 0s 4ms/step - loss: 0.1724 - val_loss: 0.1690 - lr: 2.0242e-05\n",
            "Epoch 50/500\n",
            "56/56 [==============================] - 0s 4ms/step - loss: 0.1750 - val_loss: 0.1690 - lr: 1.8316e-05\n",
            "Epoch 51/500\n",
            "56/56 [==============================] - 0s 4ms/step - loss: 0.1739 - val_loss: 0.1689 - lr: 1.6573e-05\n",
            "Epoch 52/500\n",
            "56/56 [==============================] - 0s 4ms/step - loss: 0.1742 - val_loss: 0.1689 - lr: 1.4996e-05\n",
            "Epoch 53/500\n",
            "56/56 [==============================] - 0s 4ms/step - loss: 0.1745 - val_loss: 0.1689 - lr: 1.3569e-05\n",
            "Epoch 54/500\n",
            "56/56 [==============================] - 0s 4ms/step - loss: 0.1730 - val_loss: 0.1688 - lr: 1.2277e-05\n",
            "Epoch 55/500\n",
            "56/56 [==============================] - 0s 4ms/step - loss: 0.1744 - val_loss: 0.1688 - lr: 1.1109e-05\n",
            "Epoch 56/500\n",
            "56/56 [==============================] - 0s 4ms/step - loss: 0.1727 - val_loss: 0.1688 - lr: 1.0052e-05\n",
            "Epoch 57/500\n",
            "56/56 [==============================] - 0s 4ms/step - loss: 0.1752 - val_loss: 0.1688 - lr: 9.0953e-06\n",
            "Epoch 58/500\n",
            "56/56 [==============================] - 0s 4ms/step - loss: 0.1732 - val_loss: 0.1688 - lr: 8.2297e-06\n",
            "Epoch 59/500\n",
            "56/56 [==============================] - 0s 4ms/step - loss: 0.1744 - val_loss: 0.1688 - lr: 7.4466e-06\n",
            "Epoch 60/500\n",
            "56/56 [==============================] - 0s 4ms/step - loss: 0.1727 - val_loss: 0.1688 - lr: 6.7379e-06\n",
            "Epoch 61/500\n",
            "56/56 [==============================] - 0s 4ms/step - loss: 0.1745 - val_loss: 0.1687 - lr: 6.0967e-06\n",
            "Epoch 62/500\n",
            "56/56 [==============================] - 0s 4ms/step - loss: 0.1732 - val_loss: 0.1688 - lr: 5.5165e-06\n",
            "Epoch 63/500\n",
            "56/56 [==============================] - 0s 3ms/step - loss: 0.1718 - val_loss: 0.1687 - lr: 4.9916e-06\n",
            "Epoch 64/500\n",
            "56/56 [==============================] - 0s 3ms/step - loss: 0.1738 - val_loss: 0.1687 - lr: 4.5166e-06\n",
            "Epoch 65/500\n",
            "56/56 [==============================] - 0s 4ms/step - loss: 0.1736 - val_loss: 0.1687 - lr: 4.0868e-06\n",
            "Epoch 66/500\n",
            "56/56 [==============================] - 0s 3ms/step - loss: 0.1733 - val_loss: 0.1687 - lr: 3.6979e-06\n",
            "Epoch 67/500\n",
            "56/56 [==============================] - 0s 4ms/step - loss: 0.1737 - val_loss: 0.1688 - lr: 3.3460e-06\n",
            "Epoch 68/500\n",
            "56/56 [==============================] - 0s 4ms/step - loss: 0.1736 - val_loss: 0.1688 - lr: 3.0275e-06\n",
            "Epoch 69/500\n",
            "56/56 [==============================] - 0s 4ms/step - loss: 0.1737 - val_loss: 0.1688 - lr: 2.7394e-06\n",
            "Epoch 70/500\n",
            "56/56 [==============================] - 0s 4ms/step - loss: 0.1733 - val_loss: 0.1688 - lr: 2.4787e-06\n",
            "Epoch 71/500\n",
            "56/56 [==============================] - 0s 3ms/step - loss: 0.1738 - val_loss: 0.1688 - lr: 2.2429e-06\n",
            "38/38 [==============================] - 0s 2ms/step - loss: 0.1687\n",
            "Validation Loss: 0.16873718798160553\n"
          ]
        },
        {
          "output_type": "display_data",
          "data": {
            "text/plain": [
              "<Figure size 640x480 with 1 Axes>"
            ],
            "image/png": "[encoded data removed]"
          },
          "metadata": {}
        }
      ]
    },
    {
      "cell_type": "markdown",
      "source": [
        "###Model 2 - Adadelta"
      ],
      "metadata": {
        "id": "TBjwxBSpsmno"
      }
    },
    {
      "cell_type": "markdown",
      "source": [
        "Adadelta might be a good choice for this dataset because it is designed to address the diminishing learning rates of Adagrad. It adapts the learning rates based on a window of gradient updates, rather than accumulating all past gradients, which helps in avoiding a too aggressive decrease in learning rates. This could be particularly beneficial if the dataset has complex or non-stationary features, as Adadelta could potentially provide more robust updates and convergence."
      ],
      "metadata": {
        "id": "PLJl-e2jqXnA"
      }
    },
    {
      "cell_type": "code",
      "source": [
        "\n",
        "from tensorflow.keras.optimizers import Adadelta\n",
        "\n",
        "# Define your custom learning rate and rho\n",
        "custom_lr = 0.99 # Starting with a higher learning rate\n",
        "custom_rho = 0.90  # Keeping the default rho value\n",
        "\n",
        "# Define your l1 and l2 regularization factors\n",
        "l1_factor = 0.001  # This is a common starting value for L1 regularization\n",
        "l2_factor = 0.001  # This is a common starting value for L2 regularization\n",
        "\n",
        "model2 = Sequential([\n",
        "    Dense(70, activation='relu', input_shape=(X_pca.shape[1],), kernel_regularizer=l1_l2(l1=l1_factor, l2=l2_factor)),\n",
        "    Dropout(0.25),\n",
        "    Dense(50, activation='LeakyReLU', kernel_regularizer=l1_l2(l1=l1_factor, l2=l2_factor)),\n",
        "    Dense(25, activation='linear', kernel_regularizer=l1_l2(l1=l1_factor, l2=l2_factor))\n",
        "])\n",
        "\n",
        "model2.compile(optimizer=Adadelta(learning_rate=custom_lr, rho=custom_rho),\n",
        "               loss='mean_squared_error')\n",
        "\n",
        "# history = model2.fit(X_pca, y_train, epochs=100, batch_size=32, validation_data=(X_val_pca, y_val))\n",
        "# val_loss = model2.evaluate(X_val_pca, y_val)\n",
        "# print(\"Validation Loss:\", val_loss)\n",
        "# import matplotlib.pyplot as plt\n",
        "\n",
        "# plt.plot(history.history['loss'], label='Training Loss')\n",
        "# plt.plot(history.history['val_loss'], label='Validation Loss')\n",
        "# plt.xlabel('Epoch')\n",
        "# plt.ylabel('Loss')\n",
        "# plt.legend()\n",
        "# plt.show()"
      ],
      "metadata": {
        "id": "D6sVrkmNqgK5"
      },
      "execution_count": null,
      "outputs": []
    },
    {
      "cell_type": "code",
      "source": [
        "train_model(x_train, y_train, x_val, y_val, model=model2, n_components=0.70, n_epochs=500, batch_size=50)"
      ],
      "metadata": {
        "id": "pSZqyWu83wV3",
        "colab": {
          "base_uri": "https://localhost:8080/",
          "height": 1000
        },
        "outputId": "1699401c-92a9-48ff-af01-a55abbabfc7c"
      },
      "execution_count": null,
      "outputs": [
        {
          "output_type": "stream",
          "name": "stdout",
          "text": [
            "Epoch 1/500\n",
            "56/56 [==============================] - 1s 6ms/step - loss: 2.8252 - val_loss: 2.0583 - lr: 0.9900\n",
            "Epoch 2/500\n",
            "56/56 [==============================] - 0s 4ms/step - loss: 1.9475 - val_loss: 1.6484 - lr: 0.9900\n",
            "Epoch 3/500\n",
            "56/56 [==============================] - 0s 4ms/step - loss: 1.5331 - val_loss: 1.3011 - lr: 0.9900\n",
            "Epoch 4/500\n",
            "56/56 [==============================] - 0s 4ms/step - loss: 1.1771 - val_loss: 0.9820 - lr: 0.9900\n",
            "Epoch 5/500\n",
            "56/56 [==============================] - 0s 4ms/step - loss: 0.8724 - val_loss: 0.7248 - lr: 0.9900\n",
            "Epoch 6/500\n",
            "56/56 [==============================] - 0s 4ms/step - loss: 0.6493 - val_loss: 0.5497 - lr: 0.9900\n",
            "Epoch 7/500\n",
            "56/56 [==============================] - 0s 4ms/step - loss: 0.5107 - val_loss: 0.4508 - lr: 0.9900\n",
            "Epoch 8/500\n",
            "56/56 [==============================] - 0s 4ms/step - loss: 0.4322 - val_loss: 0.3952 - lr: 0.9900\n",
            "Epoch 9/500\n",
            "56/56 [==============================] - 0s 4ms/step - loss: 0.3904 - val_loss: 0.3634 - lr: 0.9900\n",
            "Epoch 10/500\n",
            "56/56 [==============================] - 0s 5ms/step - loss: 0.3670 - val_loss: 0.3445 - lr: 0.9900\n",
            "Epoch 11/500\n",
            "56/56 [==============================] - 0s 6ms/step - loss: 0.3498 - val_loss: 0.3327 - lr: 0.8958\n",
            "Epoch 12/500\n",
            "56/56 [==============================] - 0s 5ms/step - loss: 0.3392 - val_loss: 0.3251 - lr: 0.8105\n",
            "Epoch 13/500\n",
            "56/56 [==============================] - 0s 5ms/step - loss: 0.3326 - val_loss: 0.3199 - lr: 0.7334\n",
            "Epoch 14/500\n",
            "56/56 [==============================] - 0s 5ms/step - loss: 0.3265 - val_loss: 0.3134 - lr: 0.6636\n",
            "Epoch 15/500\n",
            "56/56 [==============================] - 0s 5ms/step - loss: 0.3216 - val_loss: 0.3103 - lr: 0.6005\n",
            "Epoch 16/500\n",
            "56/56 [==============================] - 0s 5ms/step - loss: 0.3168 - val_loss: 0.3073 - lr: 0.5433\n",
            "Epoch 17/500\n",
            "56/56 [==============================] - 0s 5ms/step - loss: 0.3147 - val_loss: 0.3040 - lr: 0.4916\n",
            "Epoch 18/500\n",
            "56/56 [==============================] - 0s 6ms/step - loss: 0.3126 - val_loss: 0.3028 - lr: 0.4448\n",
            "Epoch 19/500\n",
            "56/56 [==============================] - 0s 6ms/step - loss: 0.3091 - val_loss: 0.3000 - lr: 0.4025\n",
            "Epoch 20/500\n",
            "56/56 [==============================] - 0s 6ms/step - loss: 0.3079 - val_loss: 0.2982 - lr: 0.3642\n",
            "Epoch 21/500\n",
            "56/56 [==============================] - 0s 4ms/step - loss: 0.3054 - val_loss: 0.2964 - lr: 0.3295\n",
            "Epoch 22/500\n",
            "56/56 [==============================] - 0s 4ms/step - loss: 0.3046 - val_loss: 0.2954 - lr: 0.2982\n",
            "Epoch 23/500\n",
            "56/56 [==============================] - 0s 4ms/step - loss: 0.3050 - val_loss: 0.2944 - lr: 0.2698\n",
            "Epoch 24/500\n",
            "56/56 [==============================] - 0s 4ms/step - loss: 0.3006 - val_loss: 0.2929 - lr: 0.2441\n",
            "Epoch 25/500\n",
            "56/56 [==============================] - 0s 4ms/step - loss: 0.3006 - val_loss: 0.2920 - lr: 0.2209\n",
            "Epoch 26/500\n",
            "56/56 [==============================] - 0s 5ms/step - loss: 0.2998 - val_loss: 0.2913 - lr: 0.1999\n",
            "Epoch 27/500\n",
            "56/56 [==============================] - 0s 4ms/step - loss: 0.2981 - val_loss: 0.2904 - lr: 0.1809\n",
            "Epoch 28/500\n",
            "56/56 [==============================] - 0s 4ms/step - loss: 0.2987 - val_loss: 0.2899 - lr: 0.1636\n",
            "Epoch 29/500\n",
            "56/56 [==============================] - 0s 4ms/step - loss: 0.2982 - val_loss: 0.2893 - lr: 0.1481\n",
            "Epoch 30/500\n",
            "56/56 [==============================] - 0s 4ms/step - loss: 0.2972 - val_loss: 0.2887 - lr: 0.1340\n",
            "Epoch 31/500\n",
            "56/56 [==============================] - 0s 4ms/step - loss: 0.2966 - val_loss: 0.2881 - lr: 0.1212\n",
            "Epoch 32/500\n",
            "56/56 [==============================] - 0s 4ms/step - loss: 0.2930 - val_loss: 0.2875 - lr: 0.1097\n",
            "Epoch 33/500\n",
            "56/56 [==============================] - 0s 3ms/step - loss: 0.2952 - val_loss: 0.2872 - lr: 0.0993\n",
            "Epoch 34/500\n",
            "56/56 [==============================] - 0s 4ms/step - loss: 0.2941 - val_loss: 0.2869 - lr: 0.0898\n",
            "Epoch 35/500\n",
            "56/56 [==============================] - 0s 4ms/step - loss: 0.2939 - val_loss: 0.2864 - lr: 0.0813\n",
            "Epoch 36/500\n",
            "56/56 [==============================] - 0s 4ms/step - loss: 0.2943 - val_loss: 0.2861 - lr: 0.0735\n",
            "Epoch 37/500\n",
            "56/56 [==============================] - 0s 4ms/step - loss: 0.2940 - val_loss: 0.2858 - lr: 0.0665\n",
            "Epoch 38/500\n",
            "56/56 [==============================] - 0s 4ms/step - loss: 0.2947 - val_loss: 0.2856 - lr: 0.0602\n",
            "Epoch 39/500\n",
            "56/56 [==============================] - 0s 4ms/step - loss: 0.2938 - val_loss: 0.2854 - lr: 0.0545\n",
            "Epoch 40/500\n",
            "56/56 [==============================] - 0s 4ms/step - loss: 0.2939 - val_loss: 0.2852 - lr: 0.0493\n",
            "Epoch 41/500\n",
            "56/56 [==============================] - 0s 4ms/step - loss: 0.2937 - val_loss: 0.2850 - lr: 0.0446\n",
            "Epoch 42/500\n",
            "56/56 [==============================] - 0s 4ms/step - loss: 0.2916 - val_loss: 0.2848 - lr: 0.0404\n",
            "Epoch 43/500\n",
            "56/56 [==============================] - 0s 4ms/step - loss: 0.2937 - val_loss: 0.2847 - lr: 0.0365\n",
            "Epoch 44/500\n",
            "56/56 [==============================] - 0s 4ms/step - loss: 0.2928 - val_loss: 0.2845 - lr: 0.0330\n",
            "Epoch 45/500\n",
            "56/56 [==============================] - 0s 4ms/step - loss: 0.2948 - val_loss: 0.2845 - lr: 0.0299\n",
            "Epoch 46/500\n",
            "56/56 [==============================] - 0s 4ms/step - loss: 0.2913 - val_loss: 0.2844 - lr: 0.0271\n",
            "Epoch 47/500\n",
            "56/56 [==============================] - 0s 4ms/step - loss: 0.2911 - val_loss: 0.2843 - lr: 0.0245\n",
            "Epoch 48/500\n",
            "56/56 [==============================] - 0s 4ms/step - loss: 0.2927 - val_loss: 0.2842 - lr: 0.0221\n",
            "Epoch 49/500\n",
            "56/56 [==============================] - 0s 4ms/step - loss: 0.2910 - val_loss: 0.2841 - lr: 0.0200\n",
            "Epoch 50/500\n",
            "56/56 [==============================] - 0s 4ms/step - loss: 0.2945 - val_loss: 0.2840 - lr: 0.0181\n",
            "Epoch 51/500\n",
            "56/56 [==============================] - 0s 4ms/step - loss: 0.2914 - val_loss: 0.2840 - lr: 0.0164\n",
            "Epoch 52/500\n",
            "56/56 [==============================] - 0s 4ms/step - loss: 0.2935 - val_loss: 0.2839 - lr: 0.0148\n",
            "Epoch 53/500\n",
            "56/56 [==============================] - 0s 4ms/step - loss: 0.2908 - val_loss: 0.2839 - lr: 0.0134\n",
            "Epoch 54/500\n",
            "56/56 [==============================] - 0s 4ms/step - loss: 0.2918 - val_loss: 0.2838 - lr: 0.0122\n",
            "Epoch 55/500\n",
            "56/56 [==============================] - 0s 4ms/step - loss: 0.2947 - val_loss: 0.2838 - lr: 0.0110\n",
            "Epoch 56/500\n",
            "56/56 [==============================] - 0s 4ms/step - loss: 0.2918 - val_loss: 0.2837 - lr: 0.0100\n",
            "Epoch 57/500\n",
            "56/56 [==============================] - 0s 4ms/step - loss: 0.2932 - val_loss: 0.2837 - lr: 0.0090\n",
            "Epoch 58/500\n",
            "56/56 [==============================] - 0s 4ms/step - loss: 0.2929 - val_loss: 0.2837 - lr: 0.0081\n",
            "Epoch 59/500\n",
            "56/56 [==============================] - 0s 4ms/step - loss: 0.2910 - val_loss: 0.2837 - lr: 0.0074\n",
            "Epoch 60/500\n",
            "56/56 [==============================] - 0s 4ms/step - loss: 0.2932 - val_loss: 0.2836 - lr: 0.0067\n",
            "Epoch 61/500\n",
            "56/56 [==============================] - 0s 4ms/step - loss: 0.2946 - val_loss: 0.2836 - lr: 0.0060\n",
            "Epoch 62/500\n",
            "56/56 [==============================] - 0s 4ms/step - loss: 0.2915 - val_loss: 0.2836 - lr: 0.0055\n",
            "Epoch 63/500\n",
            "56/56 [==============================] - 0s 4ms/step - loss: 0.2909 - val_loss: 0.2836 - lr: 0.0049\n",
            "Epoch 64/500\n",
            "56/56 [==============================] - 0s 4ms/step - loss: 0.2932 - val_loss: 0.2835 - lr: 0.0045\n",
            "Epoch 65/500\n",
            "56/56 [==============================] - 0s 4ms/step - loss: 0.2909 - val_loss: 0.2835 - lr: 0.0040\n",
            "Epoch 66/500\n",
            "56/56 [==============================] - 0s 5ms/step - loss: 0.2924 - val_loss: 0.2835 - lr: 0.0037\n",
            "Epoch 67/500\n",
            "56/56 [==============================] - 0s 5ms/step - loss: 0.2930 - val_loss: 0.2835 - lr: 0.0033\n",
            "Epoch 68/500\n",
            "56/56 [==============================] - 0s 5ms/step - loss: 0.2910 - val_loss: 0.2835 - lr: 0.0030\n",
            "Epoch 69/500\n",
            "56/56 [==============================] - 0s 5ms/step - loss: 0.2918 - val_loss: 0.2835 - lr: 0.0027\n",
            "Epoch 70/500\n",
            "56/56 [==============================] - 0s 6ms/step - loss: 0.2916 - val_loss: 0.2835 - lr: 0.0025\n",
            "Epoch 71/500\n",
            "56/56 [==============================] - 0s 5ms/step - loss: 0.2918 - val_loss: 0.2835 - lr: 0.0022\n",
            "Epoch 72/500\n",
            "56/56 [==============================] - 0s 5ms/step - loss: 0.2893 - val_loss: 0.2834 - lr: 0.0020\n",
            "Epoch 73/500\n",
            "56/56 [==============================] - 0s 5ms/step - loss: 0.2915 - val_loss: 0.2834 - lr: 0.0018\n",
            "Epoch 74/500\n",
            "56/56 [==============================] - 0s 6ms/step - loss: 0.2922 - val_loss: 0.2834 - lr: 0.0016\n",
            "Epoch 75/500\n",
            "56/56 [==============================] - 0s 5ms/step - loss: 0.2922 - val_loss: 0.2834 - lr: 0.0015\n",
            "Epoch 76/500\n",
            "56/56 [==============================] - 0s 5ms/step - loss: 0.2937 - val_loss: 0.2834 - lr: 0.0013\n",
            "Epoch 77/500\n",
            "56/56 [==============================] - 0s 4ms/step - loss: 0.2927 - val_loss: 0.2834 - lr: 0.0012\n",
            "Epoch 78/500\n",
            "56/56 [==============================] - 0s 4ms/step - loss: 0.2904 - val_loss: 0.2834 - lr: 0.0011\n",
            "Epoch 79/500\n",
            "56/56 [==============================] - 0s 4ms/step - loss: 0.2917 - val_loss: 0.2834 - lr: 9.9770e-04\n",
            "Epoch 80/500\n",
            "56/56 [==============================] - 0s 4ms/step - loss: 0.2916 - val_loss: 0.2834 - lr: 9.0276e-04\n",
            "Epoch 81/500\n",
            "56/56 [==============================] - 0s 4ms/step - loss: 0.2922 - val_loss: 0.2834 - lr: 8.1685e-04\n",
            "Epoch 82/500\n",
            "56/56 [==============================] - 0s 4ms/step - loss: 0.2911 - val_loss: 0.2834 - lr: 7.3912e-04\n",
            "Epoch 83/500\n",
            "56/56 [==============================] - 0s 4ms/step - loss: 0.2896 - val_loss: 0.2834 - lr: 6.6878e-04\n",
            "Epoch 84/500\n",
            "56/56 [==============================] - 0s 4ms/step - loss: 0.2904 - val_loss: 0.2834 - lr: 6.0514e-04\n",
            "Epoch 85/500\n",
            "56/56 [==============================] - 0s 4ms/step - loss: 0.2927 - val_loss: 0.2834 - lr: 5.4755e-04\n",
            "Epoch 86/500\n",
            "56/56 [==============================] - 0s 4ms/step - loss: 0.2896 - val_loss: 0.2834 - lr: 4.9544e-04\n",
            "Epoch 87/500\n",
            "56/56 [==============================] - 0s 4ms/step - loss: 0.2910 - val_loss: 0.2834 - lr: 4.4830e-04\n",
            "Epoch 88/500\n",
            "56/56 [==============================] - 0s 4ms/step - loss: 0.2907 - val_loss: 0.2834 - lr: 4.0564e-04\n",
            "Epoch 89/500\n",
            "56/56 [==============================] - 0s 4ms/step - loss: 0.2912 - val_loss: 0.2834 - lr: 3.6703e-04\n",
            "Epoch 90/500\n",
            "56/56 [==============================] - 0s 4ms/step - loss: 0.2899 - val_loss: 0.2834 - lr: 3.3211e-04\n",
            "Epoch 91/500\n",
            "56/56 [==============================] - 0s 4ms/step - loss: 0.2899 - val_loss: 0.2834 - lr: 3.0050e-04\n",
            "Epoch 92/500\n",
            "56/56 [==============================] - 0s 4ms/step - loss: 0.2928 - val_loss: 0.2834 - lr: 2.7191e-04\n",
            "Epoch 93/500\n",
            "56/56 [==============================] - 0s 4ms/step - loss: 0.2925 - val_loss: 0.2834 - lr: 2.4603e-04\n",
            "Epoch 94/500\n",
            "56/56 [==============================] - 0s 4ms/step - loss: 0.2912 - val_loss: 0.2834 - lr: 2.2262e-04\n",
            "Epoch 95/500\n",
            "56/56 [==============================] - 0s 4ms/step - loss: 0.2904 - val_loss: 0.2834 - lr: 2.0143e-04\n",
            "Epoch 96/500\n",
            "56/56 [==============================] - 0s 4ms/step - loss: 0.2903 - val_loss: 0.2834 - lr: 1.8226e-04\n",
            "Epoch 97/500\n",
            "56/56 [==============================] - 0s 4ms/step - loss: 0.2927 - val_loss: 0.2834 - lr: 1.6492e-04\n",
            "Epoch 98/500\n",
            "56/56 [==============================] - 0s 4ms/step - loss: 0.2924 - val_loss: 0.2834 - lr: 1.4923e-04\n",
            "Epoch 99/500\n",
            "56/56 [==============================] - 0s 4ms/step - loss: 0.2943 - val_loss: 0.2834 - lr: 1.3502e-04\n",
            "Epoch 100/500\n",
            "56/56 [==============================] - 0s 4ms/step - loss: 0.2918 - val_loss: 0.2834 - lr: 1.2218e-04\n",
            "Epoch 101/500\n",
            "56/56 [==============================] - 0s 4ms/step - loss: 0.2927 - val_loss: 0.2834 - lr: 1.1055e-04\n",
            "Epoch 102/500\n",
            "56/56 [==============================] - 0s 4ms/step - loss: 0.2914 - val_loss: 0.2834 - lr: 1.0003e-04\n",
            "Epoch 103/500\n",
            "56/56 [==============================] - 0s 4ms/step - loss: 0.2910 - val_loss: 0.2834 - lr: 9.0510e-05\n",
            "Epoch 104/500\n",
            "56/56 [==============================] - 0s 4ms/step - loss: 0.2908 - val_loss: 0.2834 - lr: 8.1896e-05\n",
            "Epoch 105/500\n",
            "56/56 [==============================] - 0s 4ms/step - loss: 0.2908 - val_loss: 0.2834 - lr: 7.4103e-05\n",
            "Epoch 106/500\n",
            "56/56 [==============================] - 0s 4ms/step - loss: 0.2917 - val_loss: 0.2834 - lr: 6.7051e-05\n",
            "Epoch 107/500\n",
            "56/56 [==============================] - 0s 4ms/step - loss: 0.2899 - val_loss: 0.2834 - lr: 6.0670e-05\n",
            "Epoch 108/500\n",
            "56/56 [==============================] - 0s 4ms/step - loss: 0.2930 - val_loss: 0.2834 - lr: 5.4897e-05\n",
            "Epoch 109/500\n",
            "56/56 [==============================] - 0s 4ms/step - loss: 0.2925 - val_loss: 0.2834 - lr: 4.9673e-05\n",
            "Epoch 110/500\n",
            "56/56 [==============================] - 0s 4ms/step - loss: 0.2909 - val_loss: 0.2834 - lr: 4.4946e-05\n",
            "Epoch 111/500\n",
            "56/56 [==============================] - 0s 4ms/step - loss: 0.2915 - val_loss: 0.2834 - lr: 4.0669e-05\n",
            "Epoch 112/500\n",
            "56/56 [==============================] - 0s 4ms/step - loss: 0.2898 - val_loss: 0.2834 - lr: 3.6798e-05\n",
            "Epoch 113/500\n",
            "56/56 [==============================] - 0s 4ms/step - loss: 0.2899 - val_loss: 0.2834 - lr: 3.3297e-05\n",
            "Epoch 114/500\n",
            "56/56 [==============================] - 0s 4ms/step - loss: 0.2919 - val_loss: 0.2834 - lr: 3.0128e-05\n",
            "Epoch 115/500\n",
            "56/56 [==============================] - 0s 4ms/step - loss: 0.2908 - val_loss: 0.2834 - lr: 2.7261e-05\n",
            "Epoch 116/500\n",
            "56/56 [==============================] - 0s 4ms/step - loss: 0.2935 - val_loss: 0.2834 - lr: 2.4667e-05\n",
            "Epoch 117/500\n",
            "56/56 [==============================] - 0s 4ms/step - loss: 0.2935 - val_loss: 0.2834 - lr: 2.2319e-05\n",
            "Epoch 118/500\n",
            "56/56 [==============================] - 0s 4ms/step - loss: 0.2926 - val_loss: 0.2834 - lr: 2.0195e-05\n",
            "Epoch 119/500\n",
            "56/56 [==============================] - 0s 4ms/step - loss: 0.2924 - val_loss: 0.2834 - lr: 1.8274e-05\n",
            "Epoch 120/500\n",
            "56/56 [==============================] - 0s 4ms/step - loss: 0.2893 - val_loss: 0.2834 - lr: 1.6535e-05\n",
            "Epoch 121/500\n",
            "56/56 [==============================] - 0s 4ms/step - loss: 0.2900 - val_loss: 0.2834 - lr: 1.4961e-05\n",
            "Epoch 122/500\n",
            "56/56 [==============================] - 0s 5ms/step - loss: 0.2921 - val_loss: 0.2834 - lr: 1.3537e-05\n",
            "Epoch 123/500\n",
            "56/56 [==============================] - 0s 6ms/step - loss: 0.2927 - val_loss: 0.2834 - lr: 1.2249e-05\n",
            "Epoch 124/500\n",
            "56/56 [==============================] - 0s 5ms/step - loss: 0.2892 - val_loss: 0.2834 - lr: 1.1083e-05\n",
            "Epoch 125/500\n",
            "56/56 [==============================] - 0s 5ms/step - loss: 0.2932 - val_loss: 0.2834 - lr: 1.0029e-05\n",
            "Epoch 126/500\n",
            "56/56 [==============================] - 0s 5ms/step - loss: 0.2924 - val_loss: 0.2834 - lr: 9.0744e-06\n",
            "Epoch 127/500\n",
            "56/56 [==============================] - 0s 5ms/step - loss: 0.2914 - val_loss: 0.2834 - lr: 8.2108e-06\n",
            "Epoch 128/500\n",
            "56/56 [==============================] - 0s 5ms/step - loss: 0.2932 - val_loss: 0.2834 - lr: 7.4295e-06\n",
            "Epoch 129/500\n",
            "56/56 [==============================] - 0s 5ms/step - loss: 0.2908 - val_loss: 0.2834 - lr: 6.7225e-06\n",
            "Epoch 130/500\n",
            "56/56 [==============================] - 0s 5ms/step - loss: 0.2921 - val_loss: 0.2834 - lr: 6.0827e-06\n",
            "Epoch 131/500\n",
            "56/56 [==============================] - 0s 6ms/step - loss: 0.2916 - val_loss: 0.2834 - lr: 5.5039e-06\n",
            "Epoch 132/500\n",
            "56/56 [==============================] - 0s 5ms/step - loss: 0.2904 - val_loss: 0.2834 - lr: 4.9801e-06\n",
            "Epoch 133/500\n",
            "56/56 [==============================] - 0s 4ms/step - loss: 0.2911 - val_loss: 0.2834 - lr: 4.5062e-06\n",
            "Epoch 134/500\n",
            "56/56 [==============================] - 0s 4ms/step - loss: 0.2920 - val_loss: 0.2834 - lr: 4.0774e-06\n",
            "Epoch 135/500\n",
            "56/56 [==============================] - 0s 4ms/step - loss: 0.2900 - val_loss: 0.2834 - lr: 3.6894e-06\n",
            "Epoch 136/500\n",
            "56/56 [==============================] - 0s 4ms/step - loss: 0.2923 - val_loss: 0.2834 - lr: 3.3383e-06\n",
            "Epoch 137/500\n",
            "56/56 [==============================] - 0s 4ms/step - loss: 0.2934 - val_loss: 0.2834 - lr: 3.0206e-06\n",
            "Epoch 138/500\n",
            "56/56 [==============================] - 0s 4ms/step - loss: 0.2919 - val_loss: 0.2834 - lr: 2.7331e-06\n",
            "Epoch 139/500\n",
            "56/56 [==============================] - 0s 4ms/step - loss: 0.2928 - val_loss: 0.2834 - lr: 2.4731e-06\n",
            "Epoch 140/500\n",
            "56/56 [==============================] - 0s 4ms/step - loss: 0.2913 - val_loss: 0.2834 - lr: 2.2377e-06\n",
            "Epoch 141/500\n",
            "56/56 [==============================] - 0s 4ms/step - loss: 0.2893 - val_loss: 0.2834 - lr: 2.0248e-06\n",
            "Epoch 142/500\n",
            "56/56 [==============================] - 0s 4ms/step - loss: 0.2904 - val_loss: 0.2834 - lr: 1.8321e-06\n",
            "Epoch 143/500\n",
            "56/56 [==============================] - 0s 4ms/step - loss: 0.2913 - val_loss: 0.2834 - lr: 1.6577e-06\n",
            "Epoch 144/500\n",
            "56/56 [==============================] - 0s 4ms/step - loss: 0.2924 - val_loss: 0.2834 - lr: 1.5000e-06\n",
            "Epoch 145/500\n",
            "56/56 [==============================] - 0s 4ms/step - loss: 0.2931 - val_loss: 0.2834 - lr: 1.3572e-06\n",
            "Epoch 146/500\n",
            "56/56 [==============================] - 0s 4ms/step - loss: 0.2915 - val_loss: 0.2834 - lr: 1.2281e-06\n",
            "Epoch 147/500\n",
            "56/56 [==============================] - 0s 4ms/step - loss: 0.2922 - val_loss: 0.2834 - lr: 1.1112e-06\n",
            "Epoch 148/500\n",
            "56/56 [==============================] - 0s 4ms/step - loss: 0.2919 - val_loss: 0.2834 - lr: 1.0055e-06\n",
            "Epoch 149/500\n",
            "56/56 [==============================] - 0s 4ms/step - loss: 0.2905 - val_loss: 0.2834 - lr: 9.0979e-07\n",
            "Epoch 150/500\n",
            "56/56 [==============================] - 0s 4ms/step - loss: 0.2907 - val_loss: 0.2834 - lr: 8.2321e-07\n",
            "Epoch 151/500\n",
            "56/56 [==============================] - 0s 4ms/step - loss: 0.2932 - val_loss: 0.2834 - lr: 7.4487e-07\n",
            "Epoch 152/500\n",
            "56/56 [==============================] - 0s 4ms/step - loss: 0.2921 - val_loss: 0.2834 - lr: 6.7399e-07\n",
            "Epoch 153/500\n",
            "56/56 [==============================] - 0s 4ms/step - loss: 0.2909 - val_loss: 0.2834 - lr: 6.0985e-07\n",
            "Epoch 154/500\n",
            "56/56 [==============================] - 0s 4ms/step - loss: 0.2917 - val_loss: 0.2834 - lr: 5.5181e-07\n",
            "Epoch 155/500\n",
            "56/56 [==============================] - 0s 4ms/step - loss: 0.2934 - val_loss: 0.2834 - lr: 4.9930e-07\n",
            "Epoch 156/500\n",
            "56/56 [==============================] - 0s 4ms/step - loss: 0.2926 - val_loss: 0.2834 - lr: 4.5179e-07\n",
            "Epoch 157/500\n",
            "56/56 [==============================] - 0s 4ms/step - loss: 0.2915 - val_loss: 0.2834 - lr: 4.0879e-07\n",
            "38/38 [==============================] - 0s 2ms/step - loss: 0.2834\n",
            "Validation Loss: 0.2833740711212158\n"
          ]
        },
        {
          "output_type": "display_data",
          "data": {
            "text/plain": [
              "<Figure size 640x480 with 1 Axes>"
            ],
            "image/png": "[encoded data removed]"
          },
          "metadata": {}
        }
      ]
    },
    {
      "cell_type": "markdown",
      "source": [
        "###Model 3 - Adamax"
      ],
      "metadata": {
        "id": "D3qTbPqIvO00"
      }
    },
    {
      "cell_type": "markdown",
      "source": [
        "Adamax may be an appropriate optimizer for this dataset because it's an adaptation of Adam that performs well across a wide range of tasks. It can be particularly useful if the data or gradients are sparse as it uses the infinity norm for parameter updates, which might help in cases where the gradients have large variances or are unstable. Additionally, Adamax could be more robust to the choice of hyperparameters, especially the learning rate, making it a good choice for a dataset with complex patterns where setting the perfect learning rate is challenging."
      ],
      "metadata": {
        "id": "ezyk8Jsct7RD"
      }
    },
    {
      "cell_type": "code",
      "source": [
        "from tensorflow.keras.optimizers import Adamax\n",
        "\n",
        "# Define your l1 and l2 regularization factors\n",
        "l1_factor = 0.0001  # This is a common starting value for L1 regularization\n",
        "l2_factor = 0.0001  # This is a common starting value for L2 regularization\n",
        "\n",
        "model3 = Sequential([\n",
        "    Dense(80, activation='sigmoid', input_shape=(X_pca.shape[1],), kernel_regularizer=l1_l2(l1=l1_factor, l2=l2_factor)),\n",
        "    Dropout(0.25),\n",
        "    Dense(50, activation='LeakyReLU', kernel_regularizer=l1_l2(l1=l1_factor, l2=l2_factor)),\n",
        "    Dense(25, activation='linear', kernel_regularizer=l1_l2(l1=l1_factor, l2=l2_factor))\n",
        "])\n",
        "\n",
        "# For Adamax\n",
        "# Define your custom learning rate and decay rates\n",
        "custom_lr = 1e-2  # or 1e-5 based on the above considerations\n",
        "beta_1 = 0.92  # Default value, but you might want to try values closer to 1\n",
        "beta_2 = 0.90  # Default value, or you might want to reduce it slightly\n",
        "\n",
        "model3.compile(optimizer=Adamax(learning_rate=custom_lr, beta_1=beta_1, beta_2=beta_2),\n",
        "               loss='mean_squared_error')\n"
      ],
      "metadata": {
        "id": "rCciI5T0v5Ya"
      },
      "execution_count": null,
      "outputs": []
    },
    {
      "cell_type": "code",
      "source": [
        "train_model(x_train, y_train, x_val, y_val, model=model3, n_components=0.70, n_epochs=500, batch_size=50)"
      ],
      "metadata": {
        "id": "pfJXu7FJzXzY",
        "colab": {
          "base_uri": "https://localhost:8080/",
          "height": 1000
        },
        "outputId": "f451403f-d7b2-499f-cdb0-5bb87e854b3a"
      },
      "execution_count": null,
      "outputs": [
        {
          "output_type": "stream",
          "name": "stdout",
          "text": [
            "Epoch 1/500\n",
            "56/56 [==============================] - 2s 9ms/step - loss: 0.5262 - val_loss: 0.3174 - lr: 0.0100\n",
            "Epoch 2/500\n",
            "56/56 [==============================] - 0s 5ms/step - loss: 0.3008 - val_loss: 0.2599 - lr: 0.0100\n",
            "Epoch 3/500\n",
            "56/56 [==============================] - 0s 5ms/step - loss: 0.2639 - val_loss: 0.2413 - lr: 0.0100\n",
            "Epoch 4/500\n",
            "56/56 [==============================] - 0s 5ms/step - loss: 0.2482 - val_loss: 0.2278 - lr: 0.0100\n",
            "Epoch 5/500\n",
            "56/56 [==============================] - 0s 6ms/step - loss: 0.2386 - val_loss: 0.2239 - lr: 0.0100\n",
            "Epoch 6/500\n",
            "56/56 [==============================] - 0s 5ms/step - loss: 0.2345 - val_loss: 0.2229 - lr: 0.0100\n",
            "Epoch 7/500\n",
            "56/56 [==============================] - 0s 5ms/step - loss: 0.2334 - val_loss: 0.2172 - lr: 0.0100\n",
            "Epoch 8/500\n",
            "56/56 [==============================] - 0s 4ms/step - loss: 0.2280 - val_loss: 0.2206 - lr: 0.0100\n",
            "Epoch 9/500\n",
            "56/56 [==============================] - 0s 4ms/step - loss: 0.2275 - val_loss: 0.2136 - lr: 0.0100\n",
            "Epoch 10/500\n",
            "56/56 [==============================] - 0s 4ms/step - loss: 0.2232 - val_loss: 0.2116 - lr: 0.0100\n",
            "Epoch 11/500\n",
            "56/56 [==============================] - 0s 4ms/step - loss: 0.2197 - val_loss: 0.2089 - lr: 0.0090\n",
            "Epoch 12/500\n",
            "56/56 [==============================] - 0s 4ms/step - loss: 0.2163 - val_loss: 0.2099 - lr: 0.0082\n",
            "Epoch 13/500\n",
            "56/56 [==============================] - 0s 4ms/step - loss: 0.2139 - val_loss: 0.2076 - lr: 0.0074\n",
            "Epoch 14/500\n",
            "56/56 [==============================] - 0s 4ms/step - loss: 0.2083 - val_loss: 0.1974 - lr: 0.0067\n",
            "Epoch 15/500\n",
            "56/56 [==============================] - 0s 4ms/step - loss: 0.2048 - val_loss: 0.1995 - lr: 0.0061\n",
            "Epoch 16/500\n",
            "56/56 [==============================] - 0s 4ms/step - loss: 0.2049 - val_loss: 0.1963 - lr: 0.0055\n",
            "Epoch 17/500\n",
            "56/56 [==============================] - 0s 4ms/step - loss: 0.2000 - val_loss: 0.1954 - lr: 0.0050\n",
            "Epoch 18/500\n",
            "56/56 [==============================] - 0s 4ms/step - loss: 0.1972 - val_loss: 0.1901 - lr: 0.0045\n",
            "Epoch 19/500\n",
            "56/56 [==============================] - 0s 3ms/step - loss: 0.1977 - val_loss: 0.1914 - lr: 0.0041\n",
            "Epoch 20/500\n",
            "56/56 [==============================] - 0s 4ms/step - loss: 0.1953 - val_loss: 0.1894 - lr: 0.0037\n",
            "Epoch 21/500\n",
            "56/56 [==============================] - 0s 4ms/step - loss: 0.1934 - val_loss: 0.1876 - lr: 0.0033\n",
            "Epoch 22/500\n",
            "56/56 [==============================] - 0s 4ms/step - loss: 0.1925 - val_loss: 0.1875 - lr: 0.0030\n",
            "Epoch 23/500\n",
            "56/56 [==============================] - 0s 4ms/step - loss: 0.1922 - val_loss: 0.1871 - lr: 0.0027\n",
            "Epoch 24/500\n",
            "56/56 [==============================] - 0s 4ms/step - loss: 0.1912 - val_loss: 0.1848 - lr: 0.0025\n",
            "Epoch 25/500\n",
            "56/56 [==============================] - 0s 4ms/step - loss: 0.1885 - val_loss: 0.1843 - lr: 0.0022\n",
            "Epoch 26/500\n",
            "56/56 [==============================] - 0s 4ms/step - loss: 0.1885 - val_loss: 0.1838 - lr: 0.0020\n",
            "Epoch 27/500\n",
            "56/56 [==============================] - 0s 4ms/step - loss: 0.1887 - val_loss: 0.1837 - lr: 0.0018\n",
            "Epoch 28/500\n",
            "56/56 [==============================] - 0s 4ms/step - loss: 0.1879 - val_loss: 0.1835 - lr: 0.0017\n",
            "Epoch 29/500\n",
            "56/56 [==============================] - 0s 4ms/step - loss: 0.1879 - val_loss: 0.1828 - lr: 0.0015\n",
            "Epoch 30/500\n",
            "56/56 [==============================] - 0s 4ms/step - loss: 0.1866 - val_loss: 0.1824 - lr: 0.0014\n",
            "Epoch 31/500\n",
            "56/56 [==============================] - 0s 4ms/step - loss: 0.1860 - val_loss: 0.1828 - lr: 0.0012\n",
            "Epoch 32/500\n",
            "56/56 [==============================] - 0s 4ms/step - loss: 0.1847 - val_loss: 0.1821 - lr: 0.0011\n",
            "Epoch 33/500\n",
            "56/56 [==============================] - 0s 4ms/step - loss: 0.1857 - val_loss: 0.1814 - lr: 0.0010\n",
            "Epoch 34/500\n",
            "56/56 [==============================] - 0s 4ms/step - loss: 0.1830 - val_loss: 0.1806 - lr: 9.0718e-04\n",
            "Epoch 35/500\n",
            "56/56 [==============================] - 0s 4ms/step - loss: 0.1828 - val_loss: 0.1813 - lr: 8.2085e-04\n",
            "Epoch 36/500\n",
            "56/56 [==============================] - 0s 4ms/step - loss: 0.1828 - val_loss: 0.1806 - lr: 7.4273e-04\n",
            "Epoch 37/500\n",
            "56/56 [==============================] - 0s 4ms/step - loss: 0.1824 - val_loss: 0.1800 - lr: 6.7205e-04\n",
            "Epoch 38/500\n",
            "56/56 [==============================] - 0s 4ms/step - loss: 0.1838 - val_loss: 0.1798 - lr: 6.0810e-04\n",
            "Epoch 39/500\n",
            "56/56 [==============================] - 0s 4ms/step - loss: 0.1832 - val_loss: 0.1802 - lr: 5.5023e-04\n",
            "Epoch 40/500\n",
            "56/56 [==============================] - 0s 4ms/step - loss: 0.1833 - val_loss: 0.1801 - lr: 4.9787e-04\n",
            "Epoch 41/500\n",
            "56/56 [==============================] - 0s 4ms/step - loss: 0.1829 - val_loss: 0.1797 - lr: 4.5049e-04\n",
            "Epoch 42/500\n",
            "56/56 [==============================] - 0s 3ms/step - loss: 0.1839 - val_loss: 0.1799 - lr: 4.0762e-04\n",
            "Epoch 43/500\n",
            "56/56 [==============================] - 0s 4ms/step - loss: 0.1824 - val_loss: 0.1802 - lr: 3.6883e-04\n",
            "Epoch 44/500\n",
            "56/56 [==============================] - 0s 4ms/step - loss: 0.1817 - val_loss: 0.1794 - lr: 3.3373e-04\n",
            "Epoch 45/500\n",
            "56/56 [==============================] - 0s 4ms/step - loss: 0.1813 - val_loss: 0.1795 - lr: 3.0197e-04\n",
            "Epoch 46/500\n",
            "56/56 [==============================] - 0s 4ms/step - loss: 0.1809 - val_loss: 0.1793 - lr: 2.7324e-04\n",
            "Epoch 47/500\n",
            "56/56 [==============================] - 0s 4ms/step - loss: 0.1813 - val_loss: 0.1794 - lr: 2.4723e-04\n",
            "Epoch 48/500\n",
            "56/56 [==============================] - 0s 4ms/step - loss: 0.1826 - val_loss: 0.1791 - lr: 2.2371e-04\n",
            "Epoch 49/500\n",
            "56/56 [==============================] - 0s 4ms/step - loss: 0.1823 - val_loss: 0.1792 - lr: 2.0242e-04\n",
            "Epoch 50/500\n",
            "56/56 [==============================] - 0s 4ms/step - loss: 0.1826 - val_loss: 0.1790 - lr: 1.8316e-04\n",
            "Epoch 51/500\n",
            "56/56 [==============================] - 0s 3ms/step - loss: 0.1813 - val_loss: 0.1790 - lr: 1.6573e-04\n",
            "Epoch 52/500\n",
            "56/56 [==============================] - 0s 5ms/step - loss: 0.1810 - val_loss: 0.1791 - lr: 1.4996e-04\n",
            "Epoch 53/500\n",
            "56/56 [==============================] - 0s 5ms/step - loss: 0.1802 - val_loss: 0.1791 - lr: 1.3569e-04\n",
            "Epoch 54/500\n",
            "56/56 [==============================] - 0s 5ms/step - loss: 0.1824 - val_loss: 0.1790 - lr: 1.2277e-04\n",
            "Epoch 55/500\n",
            "56/56 [==============================] - 0s 5ms/step - loss: 0.1819 - val_loss: 0.1789 - lr: 1.1109e-04\n",
            "Epoch 56/500\n",
            "56/56 [==============================] - 0s 6ms/step - loss: 0.1805 - val_loss: 0.1789 - lr: 1.0052e-04\n",
            "Epoch 57/500\n",
            "56/56 [==============================] - 0s 5ms/step - loss: 0.1810 - val_loss: 0.1789 - lr: 9.0953e-05\n",
            "Epoch 58/500\n",
            "56/56 [==============================] - 0s 5ms/step - loss: 0.1819 - val_loss: 0.1790 - lr: 8.2297e-05\n",
            "Epoch 59/500\n",
            "56/56 [==============================] - 0s 5ms/step - loss: 0.1828 - val_loss: 0.1789 - lr: 7.4466e-05\n",
            "Epoch 60/500\n",
            "56/56 [==============================] - 0s 5ms/step - loss: 0.1805 - val_loss: 0.1787 - lr: 6.7379e-05\n",
            "Epoch 61/500\n",
            "56/56 [==============================] - 0s 6ms/step - loss: 0.1815 - val_loss: 0.1789 - lr: 6.0967e-05\n",
            "Epoch 62/500\n",
            "56/56 [==============================] - 0s 6ms/step - loss: 0.1810 - val_loss: 0.1789 - lr: 5.5166e-05\n",
            "Epoch 63/500\n",
            "56/56 [==============================] - 0s 4ms/step - loss: 0.1824 - val_loss: 0.1789 - lr: 4.9916e-05\n",
            "Epoch 64/500\n",
            "56/56 [==============================] - 0s 4ms/step - loss: 0.1811 - val_loss: 0.1788 - lr: 4.5166e-05\n",
            "Epoch 65/500\n",
            "56/56 [==============================] - 0s 4ms/step - loss: 0.1816 - val_loss: 0.1788 - lr: 4.0868e-05\n",
            "Epoch 66/500\n",
            "56/56 [==============================] - 0s 6ms/step - loss: 0.1810 - val_loss: 0.1788 - lr: 3.6979e-05\n",
            "Epoch 67/500\n",
            "56/56 [==============================] - 0s 5ms/step - loss: 0.1820 - val_loss: 0.1788 - lr: 3.3460e-05\n",
            "Epoch 68/500\n",
            "56/56 [==============================] - 0s 5ms/step - loss: 0.1816 - val_loss: 0.1788 - lr: 3.0275e-05\n",
            "Epoch 69/500\n",
            "56/56 [==============================] - 0s 5ms/step - loss: 0.1802 - val_loss: 0.1787 - lr: 2.7394e-05\n",
            "Epoch 70/500\n",
            "56/56 [==============================] - 0s 6ms/step - loss: 0.1817 - val_loss: 0.1787 - lr: 2.4787e-05\n",
            "Epoch 71/500\n",
            "56/56 [==============================] - 0s 5ms/step - loss: 0.1800 - val_loss: 0.1787 - lr: 2.2429e-05\n",
            "Epoch 72/500\n",
            "56/56 [==============================] - 0s 5ms/step - loss: 0.1812 - val_loss: 0.1788 - lr: 2.0294e-05\n",
            "Epoch 73/500\n",
            "56/56 [==============================] - 0s 5ms/step - loss: 0.1803 - val_loss: 0.1787 - lr: 1.8363e-05\n",
            "Epoch 74/500\n",
            "56/56 [==============================] - 0s 5ms/step - loss: 0.1792 - val_loss: 0.1787 - lr: 1.6616e-05\n",
            "Epoch 75/500\n",
            "56/56 [==============================] - 0s 6ms/step - loss: 0.1828 - val_loss: 0.1787 - lr: 1.5034e-05\n",
            "Epoch 76/500\n",
            "56/56 [==============================] - 0s 5ms/step - loss: 0.1810 - val_loss: 0.1787 - lr: 1.3604e-05\n",
            "Epoch 77/500\n",
            "56/56 [==============================] - 0s 5ms/step - loss: 0.1815 - val_loss: 0.1787 - lr: 1.2309e-05\n",
            "Epoch 78/500\n",
            "56/56 [==============================] - 0s 3ms/step - loss: 0.1814 - val_loss: 0.1787 - lr: 1.1138e-05\n",
            "Epoch 79/500\n",
            "56/56 [==============================] - 0s 4ms/step - loss: 0.1810 - val_loss: 0.1787 - lr: 1.0078e-05\n",
            "Epoch 80/500\n",
            "56/56 [==============================] - 0s 4ms/step - loss: 0.1812 - val_loss: 0.1787 - lr: 9.1188e-06\n",
            "Epoch 81/500\n",
            "56/56 [==============================] - 0s 4ms/step - loss: 0.1823 - val_loss: 0.1787 - lr: 8.2510e-06\n",
            "Epoch 82/500\n",
            "56/56 [==============================] - 0s 4ms/step - loss: 0.1807 - val_loss: 0.1788 - lr: 7.4658e-06\n",
            "Epoch 83/500\n",
            "56/56 [==============================] - 0s 4ms/step - loss: 0.1804 - val_loss: 0.1787 - lr: 6.7554e-06\n",
            "Epoch 84/500\n",
            "56/56 [==============================] - 0s 4ms/step - loss: 0.1812 - val_loss: 0.1787 - lr: 6.1125e-06\n",
            "38/38 [==============================] - 0s 2ms/step - loss: 0.1787\n",
            "Validation Loss: 0.17869535088539124\n"
          ]
        },
        {
          "output_type": "display_data",
          "data": {
            "text/plain": [
              "<Figure size 640x480 with 1 Axes>"
            ],
            "image/png": "[encoded data removed]"
          },
          "metadata": {}
        }
      ]
    },
    {
      "cell_type": "markdown",
      "source": [
        "###Model 4 - SGD"
      ],
      "metadata": {
        "id": "8f4Brnim95xf"
      }
    },
    {
      "cell_type": "code",
      "source": [
        "from tensorflow.keras.optimizers import SGD\n",
        "# Define your l1 and l2 regularization factors\n",
        "l1_factor = 0.001  # Example value, should be tuned\n",
        "l2_factor = 0.001  # Example value, should be tuned\n",
        "\n",
        "model4 = Sequential([\n",
        "    Dense(80, activation='LeakyReLU', input_shape=(X_pca.shape[1],), kernel_regularizer=l1_l2(l1=l1_factor, l2=l2_factor)),\n",
        "    Dropout(0.30),\n",
        "    Dense(50, activation='LeakyReLU', kernel_regularizer=l1_l2(l1=l1_factor, l2=l2_factor)),\n",
        "    Dense(25, activation='linear', kernel_regularizer=l1_l2(l1=l1_factor, l2=l2_factor))\n",
        "])\n",
        "\n",
        "# Try a higher learning rate\n",
        "model4.compile(optimizer=SGD(learning_rate=0.3, momentum=0.9),\n",
        "               loss='mean_squared_error')"
      ],
      "metadata": {
        "id": "9IPrzJ8K95II"
      },
      "execution_count": null,
      "outputs": []
    },
    {
      "cell_type": "code",
      "source": [
        "train_model(x_train, y_train, x_val, y_val, model=model4, n_components=0.70, n_epochs=500, batch_size=55)"
      ],
      "metadata": {
        "id": "t7z-rfCi-Izp",
        "colab": {
          "base_uri": "https://localhost:8080/",
          "height": 1000
        },
        "outputId": "315c1127-9aa5-4e45-9a75-8222fc7b0116"
      },
      "execution_count": null,
      "outputs": [
        {
          "output_type": "stream",
          "name": "stdout",
          "text": [
            "Epoch 1/500\n",
            "51/51 [==============================] - 1s 8ms/step - loss: 1.4519 - val_loss: 0.5366 - lr: 0.3000\n",
            "Epoch 2/500\n",
            "51/51 [==============================] - 0s 5ms/step - loss: 0.3959 - val_loss: 0.3268 - lr: 0.3000\n",
            "Epoch 3/500\n",
            "51/51 [==============================] - 0s 4ms/step - loss: 0.3253 - val_loss: 0.3040 - lr: 0.3000\n",
            "Epoch 4/500\n",
            "51/51 [==============================] - 0s 4ms/step - loss: 0.3169 - val_loss: 0.3011 - lr: 0.3000\n",
            "Epoch 5/500\n",
            "51/51 [==============================] - 0s 4ms/step - loss: 0.3143 - val_loss: 0.3001 - lr: 0.3000\n",
            "Epoch 6/500\n",
            "51/51 [==============================] - 0s 5ms/step - loss: 0.3112 - val_loss: 0.2945 - lr: 0.3000\n",
            "Epoch 7/500\n",
            "51/51 [==============================] - 0s 5ms/step - loss: 0.3147 - val_loss: 0.2999 - lr: 0.3000\n",
            "Epoch 8/500\n",
            "51/51 [==============================] - 0s 4ms/step - loss: 0.3096 - val_loss: 0.3053 - lr: 0.3000\n",
            "Epoch 9/500\n",
            "51/51 [==============================] - 0s 6ms/step - loss: 0.3095 - val_loss: 0.3018 - lr: 0.3000\n",
            "Epoch 10/500\n",
            "51/51 [==============================] - 0s 6ms/step - loss: 0.3111 - val_loss: 0.2886 - lr: 0.3000\n",
            "Epoch 11/500\n",
            "51/51 [==============================] - 0s 6ms/step - loss: 0.3051 - val_loss: 0.2938 - lr: 0.2715\n",
            "Epoch 12/500\n",
            "51/51 [==============================] - 0s 6ms/step - loss: 0.3010 - val_loss: 0.2968 - lr: 0.2456\n",
            "Epoch 13/500\n",
            "51/51 [==============================] - 0s 6ms/step - loss: 0.2989 - val_loss: 0.2846 - lr: 0.2222\n",
            "Epoch 14/500\n",
            "51/51 [==============================] - 0s 6ms/step - loss: 0.2925 - val_loss: 0.2852 - lr: 0.2011\n",
            "Epoch 15/500\n",
            "51/51 [==============================] - 0s 6ms/step - loss: 0.2906 - val_loss: 0.2776 - lr: 0.1820\n",
            "Epoch 16/500\n",
            "51/51 [==============================] - 0s 6ms/step - loss: 0.2887 - val_loss: 0.2774 - lr: 0.1646\n",
            "Epoch 17/500\n",
            "51/51 [==============================] - 0s 6ms/step - loss: 0.2844 - val_loss: 0.2777 - lr: 0.1490\n",
            "Epoch 18/500\n",
            "51/51 [==============================] - 0s 6ms/step - loss: 0.2864 - val_loss: 0.2813 - lr: 0.1348\n",
            "Epoch 19/500\n",
            "51/51 [==============================] - 0s 6ms/step - loss: 0.2803 - val_loss: 0.2690 - lr: 0.1220\n",
            "Epoch 20/500\n",
            "51/51 [==============================] - 0s 5ms/step - loss: 0.2784 - val_loss: 0.2642 - lr: 0.1104\n",
            "Epoch 21/500\n",
            "51/51 [==============================] - 0s 5ms/step - loss: 0.2765 - val_loss: 0.2661 - lr: 0.0999\n",
            "Epoch 22/500\n",
            "51/51 [==============================] - 0s 4ms/step - loss: 0.2726 - val_loss: 0.2607 - lr: 0.0904\n",
            "Epoch 23/500\n",
            "51/51 [==============================] - 0s 4ms/step - loss: 0.2727 - val_loss: 0.2604 - lr: 0.0818\n",
            "Epoch 24/500\n",
            "51/51 [==============================] - 0s 4ms/step - loss: 0.2718 - val_loss: 0.2599 - lr: 0.0740\n",
            "Epoch 25/500\n",
            "51/51 [==============================] - 0s 5ms/step - loss: 0.2689 - val_loss: 0.2576 - lr: 0.0669\n",
            "Epoch 26/500\n",
            "51/51 [==============================] - 0s 5ms/step - loss: 0.2692 - val_loss: 0.2563 - lr: 0.0606\n",
            "Epoch 27/500\n",
            "51/51 [==============================] - 0s 4ms/step - loss: 0.2680 - val_loss: 0.2573 - lr: 0.0548\n",
            "Epoch 28/500\n",
            "51/51 [==============================] - 0s 4ms/step - loss: 0.2674 - val_loss: 0.2569 - lr: 0.0496\n",
            "Epoch 29/500\n",
            "51/51 [==============================] - 0s 5ms/step - loss: 0.2650 - val_loss: 0.2557 - lr: 0.0449\n",
            "Epoch 30/500\n",
            "51/51 [==============================] - 0s 5ms/step - loss: 0.2641 - val_loss: 0.2578 - lr: 0.0406\n",
            "Epoch 31/500\n",
            "51/51 [==============================] - 0s 4ms/step - loss: 0.2630 - val_loss: 0.2532 - lr: 0.0367\n",
            "Epoch 32/500\n",
            "51/51 [==============================] - 0s 4ms/step - loss: 0.2626 - val_loss: 0.2544 - lr: 0.0332\n",
            "Epoch 33/500\n",
            "51/51 [==============================] - 0s 5ms/step - loss: 0.2641 - val_loss: 0.2517 - lr: 0.0301\n",
            "Epoch 34/500\n",
            "51/51 [==============================] - 0s 4ms/step - loss: 0.2599 - val_loss: 0.2527 - lr: 0.0272\n",
            "Epoch 35/500\n",
            "51/51 [==============================] - 0s 5ms/step - loss: 0.2608 - val_loss: 0.2521 - lr: 0.0246\n",
            "Epoch 36/500\n",
            "51/51 [==============================] - 0s 4ms/step - loss: 0.2623 - val_loss: 0.2521 - lr: 0.0223\n",
            "Epoch 37/500\n",
            "51/51 [==============================] - 0s 4ms/step - loss: 0.2614 - val_loss: 0.2506 - lr: 0.0202\n",
            "Epoch 38/500\n",
            "51/51 [==============================] - 0s 5ms/step - loss: 0.2586 - val_loss: 0.2536 - lr: 0.0182\n",
            "Epoch 39/500\n",
            "51/51 [==============================] - 0s 5ms/step - loss: 0.2599 - val_loss: 0.2500 - lr: 0.0165\n",
            "Epoch 40/500\n",
            "51/51 [==============================] - 0s 5ms/step - loss: 0.2592 - val_loss: 0.2505 - lr: 0.0149\n",
            "Epoch 41/500\n",
            "51/51 [==============================] - 0s 5ms/step - loss: 0.2572 - val_loss: 0.2499 - lr: 0.0135\n",
            "Epoch 42/500\n",
            "51/51 [==============================] - 0s 4ms/step - loss: 0.2578 - val_loss: 0.2503 - lr: 0.0122\n",
            "Epoch 43/500\n",
            "51/51 [==============================] - 0s 4ms/step - loss: 0.2589 - val_loss: 0.2503 - lr: 0.0111\n",
            "Epoch 44/500\n",
            "51/51 [==============================] - 0s 5ms/step - loss: 0.2561 - val_loss: 0.2487 - lr: 0.0100\n",
            "Epoch 45/500\n",
            "51/51 [==============================] - 0s 4ms/step - loss: 0.2575 - val_loss: 0.2488 - lr: 0.0091\n",
            "Epoch 46/500\n",
            "51/51 [==============================] - 0s 4ms/step - loss: 0.2570 - val_loss: 0.2490 - lr: 0.0082\n",
            "Epoch 47/500\n",
            "51/51 [==============================] - 0s 4ms/step - loss: 0.2554 - val_loss: 0.2483 - lr: 0.0074\n",
            "Epoch 48/500\n",
            "51/51 [==============================] - 0s 4ms/step - loss: 0.2568 - val_loss: 0.2484 - lr: 0.0067\n",
            "Epoch 49/500\n",
            "51/51 [==============================] - 0s 4ms/step - loss: 0.2564 - val_loss: 0.2483 - lr: 0.0061\n",
            "Epoch 50/500\n",
            "51/51 [==============================] - 0s 4ms/step - loss: 0.2560 - val_loss: 0.2479 - lr: 0.0055\n",
            "Epoch 51/500\n",
            "51/51 [==============================] - 0s 4ms/step - loss: 0.2574 - val_loss: 0.2482 - lr: 0.0050\n",
            "Epoch 52/500\n",
            "51/51 [==============================] - 0s 4ms/step - loss: 0.2563 - val_loss: 0.2491 - lr: 0.0045\n",
            "Epoch 53/500\n",
            "51/51 [==============================] - 0s 4ms/step - loss: 0.2565 - val_loss: 0.2487 - lr: 0.0041\n",
            "Epoch 54/500\n",
            "51/51 [==============================] - 0s 4ms/step - loss: 0.2543 - val_loss: 0.2482 - lr: 0.0037\n",
            "Epoch 55/500\n",
            "51/51 [==============================] - 0s 5ms/step - loss: 0.2551 - val_loss: 0.2484 - lr: 0.0033\n",
            "Epoch 56/500\n",
            "51/51 [==============================] - 0s 5ms/step - loss: 0.2560 - val_loss: 0.2479 - lr: 0.0030\n",
            "Epoch 57/500\n",
            "51/51 [==============================] - 0s 4ms/step - loss: 0.2540 - val_loss: 0.2476 - lr: 0.0027\n",
            "Epoch 58/500\n",
            "51/51 [==============================] - 0s 4ms/step - loss: 0.2568 - val_loss: 0.2479 - lr: 0.0025\n",
            "Epoch 59/500\n",
            "51/51 [==============================] - 0s 4ms/step - loss: 0.2552 - val_loss: 0.2478 - lr: 0.0022\n",
            "Epoch 60/500\n",
            "51/51 [==============================] - 0s 5ms/step - loss: 0.2559 - val_loss: 0.2478 - lr: 0.0020\n",
            "Epoch 61/500\n",
            "51/51 [==============================] - 0s 5ms/step - loss: 0.2548 - val_loss: 0.2482 - lr: 0.0018\n",
            "Epoch 62/500\n",
            "51/51 [==============================] - 0s 5ms/step - loss: 0.2551 - val_loss: 0.2477 - lr: 0.0017\n",
            "Epoch 63/500\n",
            "51/51 [==============================] - 0s 7ms/step - loss: 0.2537 - val_loss: 0.2480 - lr: 0.0015\n",
            "Epoch 64/500\n",
            "51/51 [==============================] - 0s 6ms/step - loss: 0.2556 - val_loss: 0.2478 - lr: 0.0014\n",
            "Epoch 65/500\n",
            "51/51 [==============================] - 0s 6ms/step - loss: 0.2534 - val_loss: 0.2478 - lr: 0.0012\n",
            "Epoch 66/500\n",
            "51/51 [==============================] - 0s 6ms/step - loss: 0.2546 - val_loss: 0.2477 - lr: 0.0011\n",
            "Epoch 67/500\n",
            "51/51 [==============================] - 0s 6ms/step - loss: 0.2533 - val_loss: 0.2475 - lr: 0.0010\n",
            "Epoch 68/500\n",
            "51/51 [==============================] - 0s 8ms/step - loss: 0.2536 - val_loss: 0.2475 - lr: 9.0826e-04\n",
            "Epoch 69/500\n",
            "51/51 [==============================] - 0s 6ms/step - loss: 0.2546 - val_loss: 0.2475 - lr: 8.2183e-04\n",
            "Epoch 70/500\n",
            "51/51 [==============================] - 0s 6ms/step - loss: 0.2544 - val_loss: 0.2476 - lr: 7.4362e-04\n",
            "Epoch 71/500\n",
            "51/51 [==============================] - 0s 6ms/step - loss: 0.2535 - val_loss: 0.2474 - lr: 6.7286e-04\n",
            "Epoch 72/500\n",
            "51/51 [==============================] - 0s 6ms/step - loss: 0.2552 - val_loss: 0.2475 - lr: 6.0883e-04\n",
            "Epoch 73/500\n",
            "51/51 [==============================] - 0s 5ms/step - loss: 0.2555 - val_loss: 0.2476 - lr: 5.5089e-04\n",
            "Epoch 74/500\n",
            "51/51 [==============================] - 0s 5ms/step - loss: 0.2525 - val_loss: 0.2475 - lr: 4.9847e-04\n",
            "Epoch 75/500\n",
            "51/51 [==============================] - 0s 4ms/step - loss: 0.2532 - val_loss: 0.2474 - lr: 4.5103e-04\n",
            "Epoch 76/500\n",
            "51/51 [==============================] - 0s 5ms/step - loss: 0.2558 - val_loss: 0.2474 - lr: 4.0811e-04\n",
            "Epoch 77/500\n",
            "51/51 [==============================] - 0s 4ms/step - loss: 0.2547 - val_loss: 0.2474 - lr: 3.6927e-04\n",
            "Epoch 78/500\n",
            "51/51 [==============================] - 0s 4ms/step - loss: 0.2545 - val_loss: 0.2474 - lr: 3.3413e-04\n",
            "Epoch 79/500\n",
            "51/51 [==============================] - 0s 4ms/step - loss: 0.2560 - val_loss: 0.2474 - lr: 3.0233e-04\n",
            "Epoch 80/500\n",
            "51/51 [==============================] - 0s 4ms/step - loss: 0.2541 - val_loss: 0.2474 - lr: 2.7356e-04\n",
            "Epoch 81/500\n",
            "51/51 [==============================] - 0s 4ms/step - loss: 0.2542 - val_loss: 0.2474 - lr: 2.4753e-04\n",
            "Epoch 82/500\n",
            "51/51 [==============================] - 0s 4ms/step - loss: 0.2544 - val_loss: 0.2475 - lr: 2.2397e-04\n",
            "Epoch 83/500\n",
            "51/51 [==============================] - 0s 5ms/step - loss: 0.2553 - val_loss: 0.2474 - lr: 2.0266e-04\n",
            "Epoch 84/500\n",
            "51/51 [==============================] - 0s 4ms/step - loss: 0.2543 - val_loss: 0.2475 - lr: 1.8338e-04\n",
            "Epoch 85/500\n",
            "51/51 [==============================] - 0s 4ms/step - loss: 0.2546 - val_loss: 0.2475 - lr: 1.6592e-04\n",
            "Epoch 86/500\n",
            "51/51 [==============================] - 0s 4ms/step - loss: 0.2561 - val_loss: 0.2475 - lr: 1.5013e-04\n",
            "38/38 [==============================] - 0s 2ms/step - loss: 0.2474\n",
            "Validation Loss: 0.247371643781662\n"
          ]
        },
        {
          "output_type": "display_data",
          "data": {
            "text/plain": [
              "<Figure size 640x480 with 1 Axes>"
            ],
            "image/png": "[encoded data removed]"
          },
          "metadata": {}
        }
      ]
    },
    {
      "cell_type": "markdown",
      "source": [
        "### Model 5 - RMSProp"
      ],
      "metadata": {
        "id": "jg9lIqYQJ7c5"
      }
    },
    {
      "cell_type": "code",
      "source": [
        "from tensorflow.keras.optimizers import RMSprop\n",
        "# Define your l1 and l2 regularization factors\n",
        "l1_factor = 0.0001  # This is a common starting value for L1 regularization\n",
        "l2_factor = 0.0001  # This is a common starting value for L2 regularization\n",
        "\n",
        "model5 = Sequential([\n",
        "    Dense(80, activation='LeakyReLU', input_shape=(X_pca.shape[1],), kernel_regularizer=l1_l2(l1=l1_factor, l2=l2_factor)),\n",
        "    Dropout(0.25),\n",
        "    Dense(50, activation='elu', kernel_regularizer=l1_l2(l1=l1_factor, l2=l2_factor)),\n",
        "    Dense(25, activation='linear', kernel_regularizer=l1_l2(l1=l1_factor, l2=l2_factor))\n",
        "])\n",
        "\n",
        "# Configuring RMSprop optimizer\n",
        "model5.compile(optimizer=RMSprop(learning_rate=0.001),  # RMSprop's default learning rate is a good starting point\n",
        "               loss='mean_squared_error')\n",
        "\n"
      ],
      "metadata": {
        "id": "VsHSxXLNJ7Ac"
      },
      "execution_count": null,
      "outputs": []
    },
    {
      "cell_type": "code",
      "source": [
        "train_model(x_train, y_train, x_val, y_val, model=model5, n_components=0.70, n_epochs=300, batch_size=64)"
      ],
      "metadata": {
        "id": "xE8yxEI6KM7G",
        "colab": {
          "base_uri": "https://localhost:8080/",
          "height": 1000
        },
        "outputId": "96bc10e0-885f-45df-c51c-0ae400174a41"
      },
      "execution_count": null,
      "outputs": [
        {
          "output_type": "stream",
          "name": "stdout",
          "text": [
            "Epoch 1/300\n",
            "44/44 [==============================] - 2s 11ms/step - loss: 1.2344 - val_loss: 0.5837 - lr: 0.0010\n",
            "Epoch 2/300\n",
            "44/44 [==============================] - 0s 6ms/step - loss: 0.6300 - val_loss: 0.4350 - lr: 0.0010\n",
            "Epoch 3/300\n",
            "44/44 [==============================] - 0s 6ms/step - loss: 0.4691 - val_loss: 0.3715 - lr: 0.0010\n",
            "Epoch 4/300\n",
            "44/44 [==============================] - 0s 7ms/step - loss: 0.3927 - val_loss: 0.3369 - lr: 0.0010\n",
            "Epoch 5/300\n",
            "44/44 [==============================] - 0s 7ms/step - loss: 0.3500 - val_loss: 0.3130 - lr: 0.0010\n",
            "Epoch 6/300\n",
            "44/44 [==============================] - 0s 5ms/step - loss: 0.3214 - val_loss: 0.2960 - lr: 0.0010\n",
            "Epoch 7/300\n",
            "44/44 [==============================] - 0s 5ms/step - loss: 0.2998 - val_loss: 0.2807 - lr: 0.0010\n",
            "Epoch 8/300\n",
            "44/44 [==============================] - 0s 4ms/step - loss: 0.2826 - val_loss: 0.2698 - lr: 0.0010\n",
            "Epoch 9/300\n",
            "44/44 [==============================] - 0s 4ms/step - loss: 0.2690 - val_loss: 0.2588 - lr: 0.0010\n",
            "Epoch 10/300\n",
            "44/44 [==============================] - 0s 5ms/step - loss: 0.2567 - val_loss: 0.2492 - lr: 0.0010\n",
            "Epoch 11/300\n",
            "44/44 [==============================] - 0s 5ms/step - loss: 0.2456 - val_loss: 0.2424 - lr: 9.0484e-04\n",
            "Epoch 12/300\n",
            "44/44 [==============================] - 0s 4ms/step - loss: 0.2370 - val_loss: 0.2349 - lr: 8.1873e-04\n",
            "Epoch 13/300\n",
            "44/44 [==============================] - 0s 5ms/step - loss: 0.2304 - val_loss: 0.2293 - lr: 7.4082e-04\n",
            "Epoch 14/300\n",
            "44/44 [==============================] - 0s 5ms/step - loss: 0.2254 - val_loss: 0.2245 - lr: 6.7032e-04\n",
            "Epoch 15/300\n",
            "44/44 [==============================] - 0s 5ms/step - loss: 0.2206 - val_loss: 0.2218 - lr: 6.0653e-04\n",
            "Epoch 16/300\n",
            "44/44 [==============================] - 0s 4ms/step - loss: 0.2159 - val_loss: 0.2181 - lr: 5.4881e-04\n",
            "Epoch 17/300\n",
            "44/44 [==============================] - 0s 4ms/step - loss: 0.2122 - val_loss: 0.2160 - lr: 4.9659e-04\n",
            "Epoch 18/300\n",
            "44/44 [==============================] - 0s 5ms/step - loss: 0.2102 - val_loss: 0.2133 - lr: 4.4933e-04\n",
            "Epoch 19/300\n",
            "44/44 [==============================] - 0s 5ms/step - loss: 0.2087 - val_loss: 0.2113 - lr: 4.0657e-04\n",
            "Epoch 20/300\n",
            "44/44 [==============================] - 0s 5ms/step - loss: 0.2058 - val_loss: 0.2097 - lr: 3.6788e-04\n",
            "Epoch 21/300\n",
            "44/44 [==============================] - 0s 5ms/step - loss: 0.2042 - val_loss: 0.2085 - lr: 3.3287e-04\n",
            "Epoch 22/300\n",
            "44/44 [==============================] - 0s 5ms/step - loss: 0.2026 - val_loss: 0.2073 - lr: 3.0119e-04\n",
            "Epoch 23/300\n",
            "44/44 [==============================] - 0s 4ms/step - loss: 0.2002 - val_loss: 0.2062 - lr: 2.7253e-04\n",
            "Epoch 24/300\n",
            "44/44 [==============================] - 0s 5ms/step - loss: 0.1999 - val_loss: 0.2055 - lr: 2.4660e-04\n",
            "Epoch 25/300\n",
            "44/44 [==============================] - 0s 5ms/step - loss: 0.1989 - val_loss: 0.2049 - lr: 2.2313e-04\n",
            "Epoch 26/300\n",
            "44/44 [==============================] - 0s 5ms/step - loss: 0.1977 - val_loss: 0.2039 - lr: 2.0190e-04\n",
            "Epoch 27/300\n",
            "44/44 [==============================] - 0s 5ms/step - loss: 0.1976 - val_loss: 0.2033 - lr: 1.8268e-04\n",
            "Epoch 28/300\n",
            "44/44 [==============================] - 0s 5ms/step - loss: 0.1971 - val_loss: 0.2027 - lr: 1.6530e-04\n",
            "Epoch 29/300\n",
            "44/44 [==============================] - 0s 4ms/step - loss: 0.1960 - val_loss: 0.2021 - lr: 1.4957e-04\n",
            "Epoch 30/300\n",
            "44/44 [==============================] - 0s 4ms/step - loss: 0.1945 - val_loss: 0.2017 - lr: 1.3534e-04\n",
            "Epoch 31/300\n",
            "44/44 [==============================] - 0s 4ms/step - loss: 0.1953 - val_loss: 0.2013 - lr: 1.2246e-04\n",
            "Epoch 32/300\n",
            "44/44 [==============================] - 0s 4ms/step - loss: 0.1950 - val_loss: 0.2009 - lr: 1.1080e-04\n",
            "Epoch 33/300\n",
            "44/44 [==============================] - 0s 4ms/step - loss: 0.1931 - val_loss: 0.2006 - lr: 1.0026e-04\n",
            "Epoch 34/300\n",
            "44/44 [==============================] - 0s 4ms/step - loss: 0.1947 - val_loss: 0.2002 - lr: 9.0718e-05\n",
            "Epoch 35/300\n",
            "44/44 [==============================] - 0s 5ms/step - loss: 0.1941 - val_loss: 0.2000 - lr: 8.2085e-05\n",
            "Epoch 36/300\n",
            "44/44 [==============================] - 0s 5ms/step - loss: 0.1946 - val_loss: 0.1998 - lr: 7.4273e-05\n",
            "Epoch 37/300\n",
            "44/44 [==============================] - 0s 5ms/step - loss: 0.1935 - val_loss: 0.1996 - lr: 6.7205e-05\n",
            "Epoch 38/300\n",
            "44/44 [==============================] - 0s 5ms/step - loss: 0.1936 - val_loss: 0.1994 - lr: 6.0810e-05\n",
            "Epoch 39/300\n",
            "44/44 [==============================] - 0s 4ms/step - loss: 0.1929 - val_loss: 0.1992 - lr: 5.5023e-05\n",
            "Epoch 40/300\n",
            "44/44 [==============================] - 0s 5ms/step - loss: 0.1915 - val_loss: 0.1990 - lr: 4.9787e-05\n",
            "Epoch 41/300\n",
            "44/44 [==============================] - 0s 5ms/step - loss: 0.1927 - val_loss: 0.1989 - lr: 4.5049e-05\n",
            "Epoch 42/300\n",
            "44/44 [==============================] - 0s 5ms/step - loss: 0.1919 - val_loss: 0.1988 - lr: 4.0762e-05\n",
            "Epoch 43/300\n",
            "44/44 [==============================] - 0s 5ms/step - loss: 0.1924 - val_loss: 0.1987 - lr: 3.6883e-05\n",
            "Epoch 44/300\n",
            "44/44 [==============================] - 0s 5ms/step - loss: 0.1920 - val_loss: 0.1986 - lr: 3.3373e-05\n",
            "Epoch 45/300\n",
            "44/44 [==============================] - 0s 5ms/step - loss: 0.1926 - val_loss: 0.1985 - lr: 3.0197e-05\n",
            "Epoch 46/300\n",
            "44/44 [==============================] - 0s 4ms/step - loss: 0.1916 - val_loss: 0.1985 - lr: 2.7324e-05\n",
            "Epoch 47/300\n",
            "44/44 [==============================] - 0s 5ms/step - loss: 0.1916 - val_loss: 0.1984 - lr: 2.4723e-05\n",
            "Epoch 48/300\n",
            "44/44 [==============================] - 0s 4ms/step - loss: 0.1914 - val_loss: 0.1983 - lr: 2.2371e-05\n",
            "Epoch 49/300\n",
            "44/44 [==============================] - 0s 4ms/step - loss: 0.1912 - val_loss: 0.1983 - lr: 2.0242e-05\n",
            "Epoch 50/300\n",
            "44/44 [==============================] - 0s 4ms/step - loss: 0.1915 - val_loss: 0.1982 - lr: 1.8316e-05\n",
            "Epoch 51/300\n",
            "44/44 [==============================] - 0s 5ms/step - loss: 0.1921 - val_loss: 0.1981 - lr: 1.6573e-05\n",
            "Epoch 52/300\n",
            "44/44 [==============================] - 0s 7ms/step - loss: 0.1913 - val_loss: 0.1981 - lr: 1.4996e-05\n",
            "Epoch 53/300\n",
            "44/44 [==============================] - 0s 7ms/step - loss: 0.1909 - val_loss: 0.1981 - lr: 1.3569e-05\n",
            "Epoch 54/300\n",
            "44/44 [==============================] - 0s 6ms/step - loss: 0.1895 - val_loss: 0.1980 - lr: 1.2277e-05\n",
            "Epoch 55/300\n",
            "44/44 [==============================] - 0s 6ms/step - loss: 0.1918 - val_loss: 0.1980 - lr: 1.1109e-05\n",
            "Epoch 56/300\n",
            "44/44 [==============================] - 0s 7ms/step - loss: 0.1917 - val_loss: 0.1980 - lr: 1.0052e-05\n",
            "Epoch 57/300\n",
            "44/44 [==============================] - 0s 6ms/step - loss: 0.1902 - val_loss: 0.1979 - lr: 9.0953e-06\n",
            "Epoch 58/300\n",
            "44/44 [==============================] - 0s 6ms/step - loss: 0.1895 - val_loss: 0.1979 - lr: 8.2297e-06\n",
            "Epoch 59/300\n",
            "44/44 [==============================] - 0s 6ms/step - loss: 0.1915 - val_loss: 0.1979 - lr: 7.4466e-06\n",
            "Epoch 60/300\n",
            "44/44 [==============================] - 0s 6ms/step - loss: 0.1909 - val_loss: 0.1979 - lr: 6.7379e-06\n",
            "Epoch 61/300\n",
            "44/44 [==============================] - 0s 6ms/step - loss: 0.1908 - val_loss: 0.1978 - lr: 6.0967e-06\n",
            "Epoch 62/300\n",
            "44/44 [==============================] - 0s 7ms/step - loss: 0.1904 - val_loss: 0.1978 - lr: 5.5165e-06\n",
            "Epoch 63/300\n",
            "44/44 [==============================] - 0s 6ms/step - loss: 0.1910 - val_loss: 0.1978 - lr: 4.9916e-06\n",
            "Epoch 64/300\n",
            "44/44 [==============================] - 0s 5ms/step - loss: 0.1910 - val_loss: 0.1978 - lr: 4.5166e-06\n",
            "Epoch 65/300\n",
            "44/44 [==============================] - 0s 5ms/step - loss: 0.1909 - val_loss: 0.1978 - lr: 4.0868e-06\n",
            "Epoch 66/300\n",
            "44/44 [==============================] - 0s 5ms/step - loss: 0.1899 - val_loss: 0.1978 - lr: 3.6979e-06\n",
            "Epoch 67/300\n",
            "44/44 [==============================] - 0s 4ms/step - loss: 0.1914 - val_loss: 0.1978 - lr: 3.3460e-06\n",
            "Epoch 68/300\n",
            "44/44 [==============================] - 0s 5ms/step - loss: 0.1910 - val_loss: 0.1978 - lr: 3.0275e-06\n",
            "Epoch 69/300\n",
            "44/44 [==============================] - 0s 4ms/step - loss: 0.1911 - val_loss: 0.1978 - lr: 2.7394e-06\n",
            "Epoch 70/300\n",
            "44/44 [==============================] - 0s 4ms/step - loss: 0.1917 - val_loss: 0.1977 - lr: 2.4787e-06\n",
            "Epoch 71/300\n",
            "44/44 [==============================] - 0s 4ms/step - loss: 0.1913 - val_loss: 0.1977 - lr: 2.2429e-06\n",
            "Epoch 72/300\n",
            "44/44 [==============================] - 0s 4ms/step - loss: 0.1913 - val_loss: 0.1977 - lr: 2.0294e-06\n",
            "Epoch 73/300\n",
            "44/44 [==============================] - 0s 5ms/step - loss: 0.1905 - val_loss: 0.1977 - lr: 1.8363e-06\n",
            "Epoch 74/300\n",
            "44/44 [==============================] - 0s 5ms/step - loss: 0.1914 - val_loss: 0.1977 - lr: 1.6616e-06\n",
            "Epoch 75/300\n",
            "44/44 [==============================] - 0s 4ms/step - loss: 0.1904 - val_loss: 0.1977 - lr: 1.5034e-06\n",
            "Epoch 76/300\n",
            "44/44 [==============================] - 0s 5ms/step - loss: 0.1901 - val_loss: 0.1977 - lr: 1.3604e-06\n",
            "Epoch 77/300\n",
            "44/44 [==============================] - 0s 5ms/step - loss: 0.1908 - val_loss: 0.1977 - lr: 1.2309e-06\n",
            "Epoch 78/300\n",
            "44/44 [==============================] - 0s 4ms/step - loss: 0.1914 - val_loss: 0.1977 - lr: 1.1138e-06\n",
            "Epoch 79/300\n",
            "44/44 [==============================] - 0s 4ms/step - loss: 0.1913 - val_loss: 0.1977 - lr: 1.0078e-06\n",
            "Epoch 80/300\n",
            "44/44 [==============================] - 0s 4ms/step - loss: 0.1909 - val_loss: 0.1977 - lr: 9.1188e-07\n",
            "Epoch 81/300\n",
            "44/44 [==============================] - 0s 5ms/step - loss: 0.1904 - val_loss: 0.1977 - lr: 8.2510e-07\n",
            "Epoch 82/300\n",
            "44/44 [==============================] - 0s 5ms/step - loss: 0.1906 - val_loss: 0.1977 - lr: 7.4658e-07\n",
            "Epoch 83/300\n",
            "44/44 [==============================] - 0s 5ms/step - loss: 0.1903 - val_loss: 0.1977 - lr: 6.7554e-07\n",
            "Epoch 84/300\n",
            "44/44 [==============================] - 0s 4ms/step - loss: 0.1904 - val_loss: 0.1977 - lr: 6.1125e-07\n",
            "Epoch 85/300\n",
            "44/44 [==============================] - 0s 5ms/step - loss: 0.1910 - val_loss: 0.1977 - lr: 5.5308e-07\n",
            "Epoch 86/300\n",
            "44/44 [==============================] - 0s 5ms/step - loss: 0.1913 - val_loss: 0.1977 - lr: 5.0045e-07\n",
            "Epoch 87/300\n",
            "44/44 [==============================] - 0s 5ms/step - loss: 0.1912 - val_loss: 0.1977 - lr: 4.5283e-07\n",
            "Epoch 88/300\n",
            "44/44 [==============================] - 0s 5ms/step - loss: 0.1917 - val_loss: 0.1977 - lr: 4.0973e-07\n",
            "Epoch 89/300\n",
            "44/44 [==============================] - 0s 5ms/step - loss: 0.1911 - val_loss: 0.1977 - lr: 3.7074e-07\n",
            "Epoch 90/300\n",
            "44/44 [==============================] - 0s 5ms/step - loss: 0.1900 - val_loss: 0.1977 - lr: 3.3546e-07\n",
            "Epoch 91/300\n",
            "44/44 [==============================] - 0s 5ms/step - loss: 0.1903 - val_loss: 0.1977 - lr: 3.0354e-07\n",
            "Epoch 92/300\n",
            "44/44 [==============================] - 0s 5ms/step - loss: 0.1907 - val_loss: 0.1977 - lr: 2.7465e-07\n",
            "Epoch 93/300\n",
            "44/44 [==============================] - 0s 5ms/step - loss: 0.1900 - val_loss: 0.1977 - lr: 2.4852e-07\n",
            "Epoch 94/300\n",
            "44/44 [==============================] - 0s 5ms/step - loss: 0.1912 - val_loss: 0.1977 - lr: 2.2487e-07\n",
            "Epoch 95/300\n",
            "44/44 [==============================] - 0s 4ms/step - loss: 0.1916 - val_loss: 0.1977 - lr: 2.0347e-07\n",
            "Epoch 96/300\n",
            "44/44 [==============================] - 0s 5ms/step - loss: 0.1905 - val_loss: 0.1977 - lr: 1.8410e-07\n",
            "Epoch 97/300\n",
            "44/44 [==============================] - 0s 5ms/step - loss: 0.1907 - val_loss: 0.1977 - lr: 1.6659e-07\n",
            "Epoch 98/300\n",
            "44/44 [==============================] - 0s 4ms/step - loss: 0.1908 - val_loss: 0.1977 - lr: 1.5073e-07\n",
            "Epoch 99/300\n",
            "44/44 [==============================] - 0s 4ms/step - loss: 0.1905 - val_loss: 0.1977 - lr: 1.3639e-07\n",
            "Epoch 100/300\n",
            "44/44 [==============================] - 0s 5ms/step - loss: 0.1915 - val_loss: 0.1977 - lr: 1.2341e-07\n",
            "Epoch 101/300\n",
            "44/44 [==============================] - 0s 4ms/step - loss: 0.1918 - val_loss: 0.1977 - lr: 1.1167e-07\n",
            "Epoch 102/300\n",
            "44/44 [==============================] - 0s 4ms/step - loss: 0.1902 - val_loss: 0.1977 - lr: 1.0104e-07\n",
            "Epoch 103/300\n",
            "44/44 [==============================] - 0s 5ms/step - loss: 0.1908 - val_loss: 0.1977 - lr: 9.1424e-08\n",
            "Epoch 104/300\n",
            "44/44 [==============================] - 0s 5ms/step - loss: 0.1918 - val_loss: 0.1977 - lr: 8.2724e-08\n",
            "Epoch 105/300\n",
            "44/44 [==============================] - 0s 5ms/step - loss: 0.1902 - val_loss: 0.1977 - lr: 7.4851e-08\n",
            "Epoch 106/300\n",
            "44/44 [==============================] - 0s 5ms/step - loss: 0.1904 - val_loss: 0.1977 - lr: 6.7728e-08\n",
            "Epoch 107/300\n",
            "44/44 [==============================] - 0s 4ms/step - loss: 0.1903 - val_loss: 0.1977 - lr: 6.1283e-08\n",
            "Epoch 108/300\n",
            "44/44 [==============================] - 0s 4ms/step - loss: 0.1907 - val_loss: 0.1977 - lr: 5.5451e-08\n",
            "Epoch 109/300\n",
            "44/44 [==============================] - 0s 7ms/step - loss: 0.1904 - val_loss: 0.1977 - lr: 5.0174e-08\n",
            "Epoch 110/300\n",
            "44/44 [==============================] - 0s 7ms/step - loss: 0.1911 - val_loss: 0.1977 - lr: 4.5400e-08\n",
            "Epoch 111/300\n",
            "44/44 [==============================] - 0s 6ms/step - loss: 0.1899 - val_loss: 0.1977 - lr: 4.1079e-08\n",
            "Epoch 112/300\n",
            "44/44 [==============================] - 0s 6ms/step - loss: 0.1915 - val_loss: 0.1977 - lr: 3.7170e-08\n",
            "Epoch 113/300\n",
            "44/44 [==============================] - 0s 7ms/step - loss: 0.1906 - val_loss: 0.1977 - lr: 3.3633e-08\n",
            "Epoch 114/300\n",
            "44/44 [==============================] - 0s 6ms/step - loss: 0.1906 - val_loss: 0.1977 - lr: 3.0432e-08\n",
            "Epoch 115/300\n",
            "44/44 [==============================] - 0s 6ms/step - loss: 0.1903 - val_loss: 0.1977 - lr: 2.7536e-08\n",
            "Epoch 116/300\n",
            "44/44 [==============================] - 0s 6ms/step - loss: 0.1909 - val_loss: 0.1977 - lr: 2.4916e-08\n",
            "Epoch 117/300\n",
            "44/44 [==============================] - 0s 7ms/step - loss: 0.1910 - val_loss: 0.1977 - lr: 2.2545e-08\n",
            "Epoch 118/300\n",
            "44/44 [==============================] - 0s 7ms/step - loss: 0.1905 - val_loss: 0.1977 - lr: 2.0399e-08\n",
            "Epoch 119/300\n",
            "44/44 [==============================] - 0s 7ms/step - loss: 0.1906 - val_loss: 0.1977 - lr: 1.8458e-08\n",
            "Epoch 120/300\n",
            "44/44 [==============================] - 0s 7ms/step - loss: 0.1904 - val_loss: 0.1977 - lr: 1.6702e-08\n",
            "Epoch 121/300\n",
            "44/44 [==============================] - 0s 5ms/step - loss: 0.1908 - val_loss: 0.1977 - lr: 1.5112e-08\n",
            "Epoch 122/300\n",
            "44/44 [==============================] - 0s 5ms/step - loss: 0.1908 - val_loss: 0.1977 - lr: 1.3674e-08\n",
            "Epoch 123/300\n",
            "44/44 [==============================] - 0s 4ms/step - loss: 0.1906 - val_loss: 0.1977 - lr: 1.2373e-08\n",
            "Epoch 124/300\n",
            "44/44 [==============================] - 0s 5ms/step - loss: 0.1907 - val_loss: 0.1977 - lr: 1.1195e-08\n",
            "Epoch 125/300\n",
            "44/44 [==============================] - 0s 4ms/step - loss: 0.1902 - val_loss: 0.1977 - lr: 1.0130e-08\n",
            "Epoch 126/300\n",
            "44/44 [==============================] - 0s 5ms/step - loss: 0.1920 - val_loss: 0.1977 - lr: 9.1660e-09\n",
            "Epoch 127/300\n",
            "44/44 [==============================] - 0s 4ms/step - loss: 0.1905 - val_loss: 0.1977 - lr: 8.2938e-09\n",
            "Epoch 128/300\n",
            "44/44 [==============================] - 0s 4ms/step - loss: 0.1907 - val_loss: 0.1977 - lr: 7.5045e-09\n",
            "Epoch 129/300\n",
            "44/44 [==============================] - 0s 5ms/step - loss: 0.1906 - val_loss: 0.1977 - lr: 6.7904e-09\n",
            "Epoch 130/300\n",
            "44/44 [==============================] - 0s 5ms/step - loss: 0.1903 - val_loss: 0.1977 - lr: 6.1442e-09\n",
            "Epoch 131/300\n",
            "44/44 [==============================] - 0s 5ms/step - loss: 0.1915 - val_loss: 0.1977 - lr: 5.5595e-09\n",
            "Epoch 132/300\n",
            "44/44 [==============================] - 0s 5ms/step - loss: 0.1907 - val_loss: 0.1977 - lr: 5.0304e-09\n",
            "Epoch 133/300\n",
            "44/44 [==============================] - 0s 5ms/step - loss: 0.1909 - val_loss: 0.1977 - lr: 4.5517e-09\n",
            "Epoch 134/300\n",
            "44/44 [==============================] - 0s 5ms/step - loss: 0.1902 - val_loss: 0.1977 - lr: 4.1186e-09\n",
            "Epoch 135/300\n",
            "44/44 [==============================] - 0s 5ms/step - loss: 0.1900 - val_loss: 0.1977 - lr: 3.7266e-09\n",
            "Epoch 136/300\n",
            "44/44 [==============================] - 0s 4ms/step - loss: 0.1914 - val_loss: 0.1977 - lr: 3.3720e-09\n",
            "Epoch 137/300\n",
            "44/44 [==============================] - 0s 6ms/step - loss: 0.1911 - val_loss: 0.1977 - lr: 3.0511e-09\n",
            "Epoch 138/300\n",
            "44/44 [==============================] - 0s 5ms/step - loss: 0.1924 - val_loss: 0.1977 - lr: 2.7608e-09\n",
            "Epoch 139/300\n",
            "44/44 [==============================] - 0s 5ms/step - loss: 0.1913 - val_loss: 0.1977 - lr: 2.4980e-09\n",
            "Epoch 140/300\n",
            "44/44 [==============================] - 0s 5ms/step - loss: 0.1907 - val_loss: 0.1977 - lr: 2.2603e-09\n",
            "Epoch 141/300\n",
            "44/44 [==============================] - 0s 5ms/step - loss: 0.1908 - val_loss: 0.1977 - lr: 2.0452e-09\n",
            "Epoch 142/300\n",
            "44/44 [==============================] - 0s 5ms/step - loss: 0.1913 - val_loss: 0.1977 - lr: 1.8506e-09\n",
            "Epoch 143/300\n",
            "44/44 [==============================] - 0s 5ms/step - loss: 0.1917 - val_loss: 0.1977 - lr: 1.6745e-09\n",
            "Epoch 144/300\n",
            "44/44 [==============================] - 0s 5ms/step - loss: 0.1914 - val_loss: 0.1977 - lr: 1.5151e-09\n",
            "Epoch 145/300\n",
            "44/44 [==============================] - 0s 5ms/step - loss: 0.1918 - val_loss: 0.1977 - lr: 1.3709e-09\n",
            "Epoch 146/300\n",
            "44/44 [==============================] - 0s 4ms/step - loss: 0.1900 - val_loss: 0.1977 - lr: 1.2405e-09\n",
            "Epoch 147/300\n",
            "44/44 [==============================] - 0s 4ms/step - loss: 0.1911 - val_loss: 0.1977 - lr: 1.1224e-09\n",
            "Epoch 148/300\n",
            "44/44 [==============================] - 0s 4ms/step - loss: 0.1903 - val_loss: 0.1977 - lr: 1.0156e-09\n",
            "Epoch 149/300\n",
            "44/44 [==============================] - 0s 5ms/step - loss: 0.1915 - val_loss: 0.1977 - lr: 9.1897e-10\n",
            "Epoch 150/300\n",
            "44/44 [==============================] - 0s 4ms/step - loss: 0.1910 - val_loss: 0.1977 - lr: 8.3152e-10\n",
            "Epoch 151/300\n",
            "44/44 [==============================] - 0s 5ms/step - loss: 0.1907 - val_loss: 0.1977 - lr: 7.5239e-10\n",
            "Epoch 152/300\n",
            "44/44 [==============================] - 0s 5ms/step - loss: 0.1905 - val_loss: 0.1977 - lr: 6.8079e-10\n",
            "Epoch 153/300\n",
            "44/44 [==============================] - 0s 5ms/step - loss: 0.1905 - val_loss: 0.1977 - lr: 6.1601e-10\n",
            "Epoch 154/300\n",
            "44/44 [==============================] - 0s 5ms/step - loss: 0.1895 - val_loss: 0.1977 - lr: 5.5739e-10\n",
            "Epoch 155/300\n",
            "44/44 [==============================] - 0s 5ms/step - loss: 0.1910 - val_loss: 0.1977 - lr: 5.0434e-10\n",
            "Epoch 156/300\n",
            "44/44 [==============================] - 0s 5ms/step - loss: 0.1909 - val_loss: 0.1977 - lr: 4.5635e-10\n",
            "Epoch 157/300\n",
            "44/44 [==============================] - 0s 4ms/step - loss: 0.1900 - val_loss: 0.1977 - lr: 4.1292e-10\n",
            "Epoch 158/300\n",
            "44/44 [==============================] - 0s 5ms/step - loss: 0.1907 - val_loss: 0.1977 - lr: 3.7363e-10\n",
            "38/38 [==============================] - 0s 2ms/step - loss: 0.1977\n",
            "Validation Loss: 0.19767488539218903\n"
          ]
        },
        {
          "output_type": "display_data",
          "data": {
            "text/plain": [
              "<Figure size 640x480 with 1 Axes>"
            ],
            "image/png": "[encoded data removed]"
          },
          "metadata": {}
        }
      ]
    },
    {
      "cell_type": "markdown",
      "source": [
        "### Meta-model Random Forest Regressor"
      ],
      "metadata": {
        "id": "jnin_SiR4od1"
      }
    },
    {
      "cell_type": "code",
      "source": [
        "from sklearn.ensemble import RandomForestRegressor\n",
        "from sklearn.model_selection import train_test_split\n",
        "import numpy as np\n",
        "\n",
        "# Scale the new RNA data\n",
        "scaler = RobustScaler()\n",
        "x_train_scaled = scaler.fit_transform(x_train)\n",
        "x_val_scaled = scaler.transform(x_val)\n",
        "pca = PCA(n_components=0.70)  # Retaining 70% of variance\n",
        "X_pca = pca.fit_transform(x_train_scaled)\n",
        "X_val_pca = pca.transform(x_val_scaled)  # Transform the validation RNA data with the trained PCA\n",
        "new_data_rna_scaled = scaler.transform(new_data_rna)\n",
        "\n",
        "# Apply PCA transformation to the new RNA data\n",
        "new_data_rna_pca = pca.transform(new_data_rna_scaled)\n",
        "\n",
        "\n",
        "# Let's assume you've trained several models and stored them in a list\n",
        "base_models = [model1, model2, model3, model4, model5]  # model1, model2, model3 are your trained base models\n",
        "\n",
        "# Collect the predictions from each model\n",
        "stacked_features = np.column_stack([\n",
        "    model.predict(X_val_pca) for model in base_models\n",
        "])\n",
        "\n",
        "# Train a meta-model on these features\n",
        "meta_model = RandomForestRegressor(n_estimators=200, random_state=42).fit(stacked_features, y_val)\n",
        "\n",
        "# When making final predictions, collect the base model predictions on the test set\n",
        "# and use the meta-model to make the final prediction\n",
        "stacked_test_features = np.column_stack([\n",
        "    model.predict(new_data_rna_pca) for model in base_models\n",
        "])\n",
        "final_predictions = meta_model.predict(stacked_test_features)\n",
        "\n",
        "# Flatten the predictions and prepare for submission as before\n",
        "flattened_predictions = final_predictions.flatten()\n",
        "\n",
        "# Convert the flattened array to a pandas DataFrame\n",
        "predicted_adt_df = pd.DataFrame(flattened_predictions, columns=['Expected'])\n",
        "\n",
        "# Create an ID column based on the row number\n",
        "predicted_adt_df['ID'] = ['ID_' + str(i + 1) for i in range(len(predicted_adt_df))]\n",
        "\n",
        "# Reorder the columns to match the required submission format\n",
        "predicted_adt_df = predicted_adt_df[['ID', 'Expected']]\n"
      ],
      "metadata": {
        "id": "biZmwkf24u0I",
        "colab": {
          "base_uri": "https://localhost:8080/"
        },
        "outputId": "4336bac5-f7bc-49a3-ad98-be692c7a9abb"
      },
      "execution_count": null,
      "outputs": [
        {
          "output_type": "stream",
          "name": "stdout",
          "text": [
            "38/38 [==============================] - 0s 2ms/step\n",
            "38/38 [==============================] - 0s 2ms/step\n",
            "38/38 [==============================] - 0s 2ms/step\n",
            "38/38 [==============================] - 0s 2ms/step\n",
            "38/38 [==============================] - 0s 2ms/step\n",
            "32/32 [==============================] - 0s 2ms/step\n",
            "32/32 [==============================] - 0s 1ms/step\n",
            "32/32 [==============================] - 0s 1ms/step\n",
            "32/32 [==============================] - 0s 1ms/step\n",
            "32/32 [==============================] - 0s 1ms/step\n"
          ]
        }
      ]
    },
    {
      "cell_type": "code",
      "source": [
        "submission_file_path = '/content/drive/MyDrive/CIS_678/Challenge_02/nn_meta-randomF__robRMS_lrschedLR_sunday_submission.csv'\n",
        "predicted_adt_df.to_csv(submission_file_path, index=False)"
      ],
      "metadata": {
        "id": "tKj-moHC4zaX"
      },
      "execution_count": null,
      "outputs": []
    },
    {
      "cell_type": "markdown",
      "source": [
        "## Trying to find the best Hyperparameter"
      ],
      "metadata": {
        "id": "cxS0J-1VCw37"
      }
    },
    {
      "cell_type": "markdown",
      "source": [
        "We experimented with various functions to find the best hyperparameter for the models, however, they did not yield any satisfactory results."
      ],
      "metadata": {
        "id": "svoiXxWL7PoX"
      }
    },
    {
      "cell_type": "markdown",
      "source": [
        "###Define the model in a function"
      ],
      "metadata": {
        "id": "DLEo-xQxDAi_"
      }
    },
    {
      "cell_type": "code",
      "source": [
        "!pip install keras-tuner\n",
        "import tensorflow as tf\n",
        "import tensorflow_addons as tfa\n",
        "from kerastuner import HyperModel\n",
        "\n",
        "class MyHyperModel(HyperModel):\n",
        "    def __init__(self, input_shape):\n",
        "        self.input_shape = input_shape\n",
        "\n",
        "    def build(self, hp):\n",
        "        model = tf.keras.Sequential([\n",
        "            tf.keras.layers.Dense(\n",
        "                units=hp.Int('units', min_value=32, max_value=512, step=32),\n",
        "                activation='relu',\n",
        "                input_shape=(self.input_shape,)\n",
        "            ),\n",
        "            tf.keras.layers.Dense(25)  # Assuming 25 proteins to predict\n",
        "        ])\n",
        "\n",
        "        model.compile(\n",
        "            optimizer=tfa.optimizers.AdamW(\n",
        "                learning_rate=hp.Float('learning_rate', min_value=1e-5, max_value=1e-2, sampling='log'),\n",
        "                weight_decay=hp.Float('weight_decay', min_value=1e-5, max_value=1e-3, sampling='log')\n",
        "            ),\n",
        "            loss='mean_squared_error'\n",
        "        )\n",
        "        return model\n"
      ],
      "metadata": {
        "id": "w0ZxbMUoC-Q0",
        "colab": {
          "base_uri": "https://localhost:8080/"
        },
        "outputId": "feb8dbbe-2257-4982-cb3e-6983c5bcc7b0"
      },
      "execution_count": null,
      "outputs": [
        {
          "output_type": "stream",
          "name": "stdout",
          "text": [
            "Collecting keras-tuner\n",
            "  Downloading keras_tuner-1.4.7-py3-none-any.whl (129 kB)\n",
            "\u001b[2K     \u001b[90m━━━━━━━━━━━━━━━━━━━━━━━━━━━━━━━━━━━━━━━━\u001b[0m \u001b[32m129.1/129.1 kB\u001b[0m \u001b[31m902.0 kB/s\u001b[0m eta \u001b[36m0:00:00\u001b[0m\n",
            "\u001b[?25hRequirement already satisfied: keras in /usr/local/lib/python3.10/dist-packages (from keras-tuner) (2.15.0)\n",
            "Requirement already satisfied: packaging in /usr/local/lib/python3.10/dist-packages (from keras-tuner) (24.0)\n",
            "Requirement already satisfied: requests in /usr/local/lib/python3.10/dist-packages (from keras-tuner) (2.31.0)\n",
            "Collecting kt-legacy (from keras-tuner)\n",
            "  Downloading kt_legacy-1.0.5-py3-none-any.whl (9.6 kB)\n",
            "Requirement already satisfied: charset-normalizer<4,>=2 in /usr/local/lib/python3.10/dist-packages (from requests->keras-tuner) (3.3.2)\n",
            "Requirement already satisfied: idna<4,>=2.5 in /usr/local/lib/python3.10/dist-packages (from requests->keras-tuner) (3.7)\n",
            "Requirement already satisfied: urllib3<3,>=1.21.1 in /usr/local/lib/python3.10/dist-packages (from requests->keras-tuner) (2.0.7)\n",
            "Requirement already satisfied: certifi>=2017.4.17 in /usr/local/lib/python3.10/dist-packages (from requests->keras-tuner) (2024.2.2)\n",
            "Installing collected packages: kt-legacy, keras-tuner\n",
            "Successfully installed keras-tuner-1.4.7 kt-legacy-1.0.5\n"
          ]
        },
        {
          "output_type": "stream",
          "name": "stderr",
          "text": [
            "<ipython-input-40-d64f3be31bd0>:4: DeprecationWarning: `import kerastuner` is deprecated, please use `import keras_tuner`.\n",
            "  from kerastuner import HyperModel\n"
          ]
        }
      ]
    },
    {
      "cell_type": "markdown",
      "source": [
        "Run hyperparameter search"
      ],
      "metadata": {
        "id": "cMAWBw0sDOlQ"
      }
    },
    {
      "cell_type": "code",
      "source": [
        "from kerastuner.tuners import RandomSearch\n",
        "\n",
        "tuner = RandomSearch(\n",
        "    MyHyperModel(input_shape=x_train.shape[1]),\n",
        "    objective='val_loss',\n",
        "    max_trials=20,\n",
        "    executions_per_trial=1,\n",
        "    directory='my_dir',\n",
        "    project_name='adamw_tuning'\n",
        ")\n",
        "\n",
        "tuner.search(x_train, y_train, epochs=10, validation_data=(x_val, y_val))\n"
      ],
      "metadata": {
        "id": "XwLXXtESDJ9U",
        "colab": {
          "base_uri": "https://localhost:8080/"
        },
        "outputId": "bcad1ef1-5e52-466b-9ef8-0cb8690ae119"
      },
      "execution_count": null,
      "outputs": [
        {
          "output_type": "stream",
          "name": "stdout",
          "text": [
            "Trial 20 Complete [00h 00m 05s]\n",
            "val_loss: 0.5756759643554688\n",
            "\n",
            "Best val_loss So Far: 0.45787790417671204\n",
            "Total elapsed time: 00h 02m 14s\n"
          ]
        }
      ]
    },
    {
      "cell_type": "markdown",
      "source": [
        "Get the best model:"
      ],
      "metadata": {
        "id": "Jhx2ao8xDWwR"
      }
    },
    {
      "cell_type": "code",
      "source": [
        "best_model = tuner.get_best_models(num_models=1)[0]"
      ],
      "metadata": {
        "id": "h7v67g8tDZTy",
        "colab": {
          "base_uri": "https://localhost:8080/"
        },
        "outputId": "0879006e-c617-445c-aa30-ac5eec98e75e"
      },
      "execution_count": null,
      "outputs": [
        {
          "output_type": "stream",
          "name": "stderr",
          "text": [
            "WARNING:tensorflow:Detecting that an object or model or tf.train.Checkpoint is being deleted with unrestored values. See the following logs for the specific values in question. To silence these warnings, use `status.expect_partial()`. See https://www.tensorflow.org/api_docs/python/tf/train/Checkpoint#restorefor details about the status object returned by the restore function.\n",
            "WARNING:tensorflow:Value in checkpoint could not be found in the restored object: (root).optimizer.iter\n"
          ]
        }
      ]
    },
    {
      "cell_type": "markdown",
      "source": [
        "However, this model did not outperform the AdamW with default settings"
      ],
      "metadata": {
        "id": "KMtjkrl_JvRJ"
      }
    },
    {
      "cell_type": "markdown",
      "source": [
        "##Further hypertuning with l2 Regularization"
      ],
      "metadata": {
        "id": "DKOjanMBFbQf"
      }
    },
    {
      "cell_type": "code",
      "source": [
        "import tensorflow as tf\n",
        "import tensorflow_addons as tfa\n",
        "from kerastuner import HyperModel\n",
        "from tensorflow.keras import regularizers\n",
        "from kerastuner import HyperModel\n",
        "\n",
        "class MyHyperModel(HyperModel):\n",
        "    def __init__(self, input_shape):\n",
        "        self.input_shape = input_shape\n",
        "\n",
        "    def build(self, hp):\n",
        "        model = tf.keras.Sequential()\n",
        "        for i in range(hp.Int('num_layers', 1, 3)):\n",
        "            model.add(tf.keras.layers.Dense(\n",
        "                units=hp.Int('units_' + str(i), min_value=32, max_value=512, step=32),\n",
        "                activation='relu',\n",
        "                kernel_regularizer=regularizers.l2(hp.Float('l2_' + str(i), min_value=1e-5, max_value=1e-2, sampling='log')),\n",
        "                input_shape=(self.input_shape if i == 0 else None,)\n",
        "            ))\n",
        "        model.add(tf.keras.layers.Dense(25))  # Assuming 25 proteins to predict\n",
        "\n",
        "        model.compile(\n",
        "            optimizer=tfa.optimizers.AdamW(\n",
        "                learning_rate=hp.Float('learning_rate', min_value=5e-5, max_value=5e-4, sampling='log'),\n",
        "                weight_decay=hp.Float('weight_decay', min_value=1e-5, max_value=1e-4, sampling='log')\n",
        "            ),\n",
        "            loss='mean_squared_error'\n",
        "        )\n",
        "        return model\n"
      ],
      "metadata": {
        "id": "CVgPYQmfFhlB"
      },
      "execution_count": null,
      "outputs": []
    },
    {
      "cell_type": "code",
      "source": [
        "from kerastuner.tuners import RandomSearch\n",
        "\n",
        "tuner = RandomSearch(\n",
        "    MyHyperModel(input_shape=x_train.shape[1]),\n",
        "    objective='val_loss',\n",
        "    max_trials=35,  # Adjust based on computational budget\n",
        "    executions_per_trial=1,\n",
        "    directory='my_dir',\n",
        "    project_name='adamw_tuning_refined'\n",
        ")\n",
        "\n",
        "tuner.search(x_train, y_train, epochs=60, validation_data=(x_val, y_val))\n"
      ],
      "metadata": {
        "id": "AfoD0rprFlzF",
        "colab": {
          "base_uri": "https://localhost:8080/"
        },
        "outputId": "3e11c2a6-8035-415a-d419-4c0c40c5602f"
      },
      "execution_count": null,
      "outputs": [
        {
          "output_type": "stream",
          "name": "stdout",
          "text": [
            "Trial 35 Complete [00h 00m 25s]\n",
            "val_loss: 0.5330778956413269\n",
            "\n",
            "Best val_loss So Far: 0.46352025866508484\n",
            "Total elapsed time: 00h 18m 57s\n"
          ]
        }
      ]
    },
    {
      "cell_type": "markdown",
      "source": [
        "Get the best hyperparameters"
      ],
      "metadata": {
        "id": "x7cG1rFfSzMz"
      }
    },
    {
      "cell_type": "code",
      "source": [
        "best_hyperparameters = tuner.get_best_hyperparameters(num_trials=1)[0]\n",
        "best_hyperparameters_values = best_hyperparameters.values"
      ],
      "metadata": {
        "id": "DlWbhfEvSTYm"
      },
      "execution_count": null,
      "outputs": []
    },
    {
      "cell_type": "code",
      "source": [
        "print(best_hyperparameters_values)"
      ],
      "metadata": {
        "id": "KoY6MiZgUn7M",
        "colab": {
          "base_uri": "https://localhost:8080/"
        },
        "outputId": "772ad67a-faee-4408-af19-f58d3f7c5717"
      },
      "execution_count": null,
      "outputs": [
        {
          "output_type": "stream",
          "name": "stdout",
          "text": [
            "{'num_layers': 2, 'units_0': 32, 'l2_0': 1.8240387446140548e-05, 'learning_rate': 6.844568764003267e-05, 'weight_decay': 1.8242991031363712e-05, 'units_1': 224, 'l2_1': 0.00015493743411506213, 'units_2': 352, 'l2_2': 1.6522275610856798e-05}\n"
          ]
        }
      ]
    },
    {
      "cell_type": "markdown",
      "source": [
        "Build the model using the best hyperparameters:"
      ],
      "metadata": {
        "id": "b6WM9aFCS1vN"
      }
    },
    {
      "cell_type": "code",
      "source": [
        "best_model = MyHyperModel(input_shape=x_train.shape[1]).build(best_hyperparameters)\n",
        "\n",
        "best_model.fit(x_train, y_train, epochs=60, validation_data=(x_val, y_val))"
      ],
      "metadata": {
        "id": "njsob3GUSgLv",
        "colab": {
          "base_uri": "https://localhost:8080/"
        },
        "outputId": "7581f64d-684a-4dc1-adbd-563210e83490"
      },
      "execution_count": null,
      "outputs": [
        {
          "output_type": "stream",
          "name": "stdout",
          "text": [
            "Epoch 1/60\n"
          ]
        },
        {
          "output_type": "stream",
          "name": "stderr",
          "text": [
            "WARNING:tensorflow:Detecting that an object or model or tf.train.Checkpoint is being deleted with unrestored values. See the following logs for the specific values in question. To silence these warnings, use `status.expect_partial()`. See https://www.tensorflow.org/api_docs/python/tf/train/Checkpoint#restorefor details about the status object returned by the restore function.\n",
            "WARNING:tensorflow:Value in checkpoint could not be found in the restored object: (root).optimizer.iter\n",
            "WARNING:tensorflow:Value in checkpoint could not be found in the restored object: (root).optimizer.beta_1\n",
            "WARNING:tensorflow:Value in checkpoint could not be found in the restored object: (root).optimizer.beta_2\n",
            "WARNING:tensorflow:Value in checkpoint could not be found in the restored object: (root).optimizer.decay\n",
            "WARNING:tensorflow:Value in checkpoint could not be found in the restored object: (root).optimizer.learning_rate\n",
            "WARNING:tensorflow:Value in checkpoint could not be found in the restored object: (root).optimizer.weight_decay\n"
          ]
        },
        {
          "output_type": "stream",
          "name": "stdout",
          "text": [
            "88/88 [==============================] - 1s 5ms/step - loss: 0.8650 - val_loss: 0.5860\n",
            "Epoch 2/60\n",
            "88/88 [==============================] - 0s 4ms/step - loss: 0.5590 - val_loss: 0.5352\n",
            "Epoch 3/60\n",
            "88/88 [==============================] - 0s 4ms/step - loss: 0.5298 - val_loss: 0.5166\n",
            "Epoch 4/60\n",
            "88/88 [==============================] - 0s 3ms/step - loss: 0.5134 - val_loss: 0.5037\n",
            "Epoch 5/60\n",
            "88/88 [==============================] - 0s 3ms/step - loss: 0.5031 - val_loss: 0.4958\n",
            "Epoch 6/60\n",
            "88/88 [==============================] - 0s 4ms/step - loss: 0.4955 - val_loss: 0.4898\n",
            "Epoch 7/60\n",
            "88/88 [==============================] - 0s 4ms/step - loss: 0.4897 - val_loss: 0.4858\n",
            "Epoch 8/60\n",
            "88/88 [==============================] - 0s 4ms/step - loss: 0.4856 - val_loss: 0.4824\n",
            "Epoch 9/60\n",
            "88/88 [==============================] - 0s 4ms/step - loss: 0.4820 - val_loss: 0.4793\n",
            "Epoch 10/60\n",
            "88/88 [==============================] - 0s 4ms/step - loss: 0.4794 - val_loss: 0.4767\n",
            "Epoch 11/60\n",
            "88/88 [==============================] - 0s 3ms/step - loss: 0.4766 - val_loss: 0.4749\n",
            "Epoch 12/60\n",
            "88/88 [==============================] - 0s 4ms/step - loss: 0.4743 - val_loss: 0.4732\n",
            "Epoch 13/60\n",
            "88/88 [==============================] - 0s 5ms/step - loss: 0.4724 - val_loss: 0.4716\n",
            "Epoch 14/60\n",
            "88/88 [==============================] - 0s 6ms/step - loss: 0.4705 - val_loss: 0.4709\n",
            "Epoch 15/60\n",
            "88/88 [==============================] - 0s 6ms/step - loss: 0.4691 - val_loss: 0.4706\n",
            "Epoch 16/60\n",
            "88/88 [==============================] - 0s 5ms/step - loss: 0.4675 - val_loss: 0.4689\n",
            "Epoch 17/60\n",
            "88/88 [==============================] - 0s 5ms/step - loss: 0.4659 - val_loss: 0.4680\n",
            "Epoch 18/60\n",
            "88/88 [==============================] - 0s 6ms/step - loss: 0.4646 - val_loss: 0.4676\n",
            "Epoch 19/60\n",
            "88/88 [==============================] - 0s 5ms/step - loss: 0.4634 - val_loss: 0.4671\n",
            "Epoch 20/60\n",
            "88/88 [==============================] - 0s 3ms/step - loss: 0.4626 - val_loss: 0.4666\n",
            "Epoch 21/60\n",
            "88/88 [==============================] - 0s 4ms/step - loss: 0.4609 - val_loss: 0.4662\n",
            "Epoch 22/60\n",
            "88/88 [==============================] - 0s 4ms/step - loss: 0.4598 - val_loss: 0.4658\n",
            "Epoch 23/60\n",
            "88/88 [==============================] - 0s 3ms/step - loss: 0.4586 - val_loss: 0.4657\n",
            "Epoch 24/60\n",
            "88/88 [==============================] - 0s 4ms/step - loss: 0.4577 - val_loss: 0.4654\n",
            "Epoch 25/60\n",
            "88/88 [==============================] - 0s 5ms/step - loss: 0.4562 - val_loss: 0.4655\n",
            "Epoch 26/60\n",
            "88/88 [==============================] - 0s 4ms/step - loss: 0.4550 - val_loss: 0.4646\n",
            "Epoch 27/60\n",
            "88/88 [==============================] - 0s 5ms/step - loss: 0.4539 - val_loss: 0.4646\n",
            "Epoch 28/60\n",
            "88/88 [==============================] - 0s 4ms/step - loss: 0.4531 - val_loss: 0.4654\n",
            "Epoch 29/60\n",
            "88/88 [==============================] - 0s 5ms/step - loss: 0.4515 - val_loss: 0.4653\n",
            "Epoch 30/60\n",
            "88/88 [==============================] - 0s 4ms/step - loss: 0.4502 - val_loss: 0.4644\n",
            "Epoch 31/60\n",
            "88/88 [==============================] - 0s 4ms/step - loss: 0.4493 - val_loss: 0.4660\n",
            "Epoch 32/60\n",
            "88/88 [==============================] - 0s 4ms/step - loss: 0.4479 - val_loss: 0.4658\n",
            "Epoch 33/60\n",
            "88/88 [==============================] - 0s 4ms/step - loss: 0.4466 - val_loss: 0.4653\n",
            "Epoch 34/60\n",
            "88/88 [==============================] - 0s 4ms/step - loss: 0.4456 - val_loss: 0.4652\n",
            "Epoch 35/60\n",
            "88/88 [==============================] - 0s 5ms/step - loss: 0.4443 - val_loss: 0.4655\n",
            "Epoch 36/60\n",
            "88/88 [==============================] - 0s 5ms/step - loss: 0.4422 - val_loss: 0.4659\n",
            "Epoch 37/60\n",
            "88/88 [==============================] - 0s 4ms/step - loss: 0.4410 - val_loss: 0.4665\n",
            "Epoch 38/60\n",
            "88/88 [==============================] - 0s 4ms/step - loss: 0.4394 - val_loss: 0.4669\n",
            "Epoch 39/60\n",
            "88/88 [==============================] - 0s 5ms/step - loss: 0.4377 - val_loss: 0.4670\n",
            "Epoch 40/60\n",
            "88/88 [==============================] - 0s 4ms/step - loss: 0.4363 - val_loss: 0.4685\n",
            "Epoch 41/60\n",
            "88/88 [==============================] - 0s 5ms/step - loss: 0.4350 - val_loss: 0.4680\n",
            "Epoch 42/60\n",
            "88/88 [==============================] - 0s 4ms/step - loss: 0.4328 - val_loss: 0.4690\n",
            "Epoch 43/60\n",
            "88/88 [==============================] - 0s 4ms/step - loss: 0.4317 - val_loss: 0.4688\n",
            "Epoch 44/60\n",
            "88/88 [==============================] - 0s 3ms/step - loss: 0.4291 - val_loss: 0.4717\n",
            "Epoch 45/60\n",
            "88/88 [==============================] - 0s 4ms/step - loss: 0.4276 - val_loss: 0.4708\n",
            "Epoch 46/60\n",
            "88/88 [==============================] - 0s 4ms/step - loss: 0.4255 - val_loss: 0.4741\n",
            "Epoch 47/60\n",
            "88/88 [==============================] - 0s 3ms/step - loss: 0.4234 - val_loss: 0.4733\n",
            "Epoch 48/60\n",
            "88/88 [==============================] - 0s 4ms/step - loss: 0.4214 - val_loss: 0.4733\n",
            "Epoch 49/60\n",
            "88/88 [==============================] - 0s 5ms/step - loss: 0.4191 - val_loss: 0.4753\n",
            "Epoch 50/60\n",
            "88/88 [==============================] - 0s 5ms/step - loss: 0.4168 - val_loss: 0.4755\n",
            "Epoch 51/60\n",
            "88/88 [==============================] - 0s 6ms/step - loss: 0.4143 - val_loss: 0.4770\n",
            "Epoch 52/60\n",
            "88/88 [==============================] - 0s 5ms/step - loss: 0.4128 - val_loss: 0.4781\n",
            "Epoch 53/60\n",
            "88/88 [==============================] - 0s 5ms/step - loss: 0.4096 - val_loss: 0.4791\n",
            "Epoch 54/60\n",
            "88/88 [==============================] - 0s 5ms/step - loss: 0.4073 - val_loss: 0.4808\n",
            "Epoch 55/60\n",
            "88/88 [==============================] - 0s 5ms/step - loss: 0.4049 - val_loss: 0.4822\n",
            "Epoch 56/60\n",
            "88/88 [==============================] - 0s 4ms/step - loss: 0.4026 - val_loss: 0.4831\n",
            "Epoch 57/60\n",
            "88/88 [==============================] - 0s 4ms/step - loss: 0.4007 - val_loss: 0.4851\n",
            "Epoch 58/60\n",
            "88/88 [==============================] - 0s 4ms/step - loss: 0.3974 - val_loss: 0.4880\n",
            "Epoch 59/60\n",
            "88/88 [==============================] - 0s 4ms/step - loss: 0.3950 - val_loss: 0.4871\n",
            "Epoch 60/60\n",
            "88/88 [==============================] - 0s 5ms/step - loss: 0.3930 - val_loss: 0.4890\n"
          ]
        },
        {
          "output_type": "execute_result",
          "data": {
            "text/plain": [
              "<keras.src.callbacks.History at 0x7caff0cd8b80>"
            ]
          },
          "metadata": {},
          "execution_count": 49
        }
      ]
    },
    {
      "cell_type": "code",
      "source": [
        "predicted_adt_adw = best_model.predict(new_data_rna)\n"
      ],
      "metadata": {
        "id": "Kn9FXwC-S7HH",
        "colab": {
          "base_uri": "https://localhost:8080/"
        },
        "outputId": "6fbf3633-4c43-442c-f708-b4490905fca6"
      },
      "execution_count": null,
      "outputs": [
        {
          "output_type": "stream",
          "name": "stdout",
          "text": [
            "32/32 [==============================] - 0s 1ms/step\n"
          ]
        }
      ]
    },
    {
      "cell_type": "code",
      "source": [
        "# Flatten the predictions\n",
        "flattened_predictions = predicted_adt_adw.flatten()\n",
        "\n",
        "# Convert the flattened array to a pandas DataFrame\n",
        "predicted_adt_df = pd.DataFrame(flattened_predictions, columns=['Expected'])\n",
        "\n",
        "# Create an ID column based on the row number\n",
        "predicted_adt_df['ID'] = ['ID_' + str(i + 1) for i in range(len(predicted_adt_df))]\n",
        "\n",
        "# Reorder the columns to match the required submission format\n",
        "predicted_adt_df = predicted_adt_df[['ID', 'Expected']]"
      ],
      "metadata": {
        "id": "nD9u20uxTyGB"
      },
      "execution_count": null,
      "outputs": []
    },
    {
      "cell_type": "code",
      "source": [
        "submission_file_path = '/content/drive/MyDrive/CIS_678/Challenge_02/nn_adwTuned_submission.csv'\n",
        "predicted_adt_df.to_csv(submission_file_path, index=False)"
      ],
      "metadata": {
        "id": "d2INthTtT-s0"
      },
      "execution_count": null,
      "outputs": []
    },
    {
      "cell_type": "markdown",
      "source": [
        "## Meta model hypertuned XGB"
      ],
      "metadata": {
        "id": "Dq2IgbFd3-YS"
      }
    },
    {
      "cell_type": "code",
      "source": [
        "from sklearn.model_selection import RandomizedSearchCV\n",
        "import scipy.stats as stats\n",
        "from xgboost import XGBRegressor\n",
        "# Define the parameter distributions for randomized search\n",
        "param_distributions = {\n",
        "    'n_estimators': stats.randint(50, 151),\n",
        "    'max_depth': stats.randint(3, 8),\n",
        "    'learning_rate': stats.uniform(0.01, 0.29),\n",
        "    'min_child_weight': stats.randint(1, 6),\n",
        "    'subsample': stats.uniform(0.5, 0.4),\n",
        "    'colsample_bytree': stats.uniform(0.5, 0.4),\n",
        "    'gamma': stats.uniform(0, 0.2),\n",
        "    'reg_alpha': stats.uniform(0, 0.5),\n",
        "    'reg_lambda': stats.uniform(1, 1)\n",
        "}\n",
        "\n",
        "# Initialize XGBoost regressor\n",
        "xgb_model = XGBRegressor(random_state=42)\n",
        "\n",
        "# Initialize RandomizedSearchCV\n",
        "random_search = RandomizedSearchCV(estimator=xgb_model, param_distributions=param_distributions,\n",
        "                                   n_iter=100, cv=3, scoring='neg_mean_squared_error', random_state=42)\n",
        "\n",
        "# Fit RandomizedSearchCV to the data\n",
        "random_search.fit(stacked_features, y_val)\n",
        "\n",
        "# Get the best parameters\n",
        "best_params = random_search.best_params_\n",
        "print(\"Best Hyperparameters:\", best_params)\n",
        "\n",
        "# Train the final XGBoost model with the best parameters\n",
        "final_xgb_model = XGBRegressor(**best_params, random_state=42)\n",
        "final_xgb_model.fit(stacked_features, y_val)\n"
      ],
      "metadata": {
        "id": "Ob1vueHgvORE"
      },
      "execution_count": null,
      "outputs": []
    },
    {
      "cell_type": "markdown",
      "source": [
        "# Results"
      ],
      "metadata": {
        "id": "dihMeTBc7vVK"
      }
    },
    {
      "cell_type": "markdown",
      "source": [
        "After submitting our predicted values for the Test ADT to Kaggle, we observed significant performance differences among our models. The Multivariate Regression, Multivariate Regression with Gradient Descent, and NMF models achieved Pearson Correlation Coefficients ranging from 0.78 to 0.81, while our deep learning models performed better, with scores from 0.820 to 0.863.\n",
        "\n",
        "Key insights from our analysis include:\n",
        "\n",
        "Principal Component Analysis (PCA): PCA was instrumental in enhancing model stability by effectively reducing data dimensionality, which improved learning efficiency and model performance.\n",
        "\n",
        "Diversified Model Architectures: Employing various optimizers and adding diverse layers helped develop robust models, capturing a broader spectrum of data patterns and boosting generalization.\n",
        "\n",
        "Learning Rate Scheduler Optimization: The use of a Learning Rate Scheduler accelerated the optimization process, aiding in more precise local minima identification and boosting overall model performance.\n",
        "\n",
        "Hyperparameter Tuning and Regularization: These techniques were crucial in building generalizable and stable networks, preventing overfitting and enhancing robustness through careful parameter adjustment and regularization.\n",
        "\n",
        "In conclusion, our project highlights the critical role of integrating advanced techniques such as PCA, diverse architectures, learning rate adjustments, and meticulous hyperparameter tuning to excel in predicting ADT expression profiles from single-cell sequencing data. These strategies offer valuable insights for enhancing future computational biology models.\n",
        "\n"
      ],
      "metadata": {
        "id": "-TqihDHg77qo"
      }
    },
    {
      "cell_type": "markdown",
      "source": [
        "# Conclusion"
      ],
      "metadata": {
        "id": "wlwIJaF-5z5P"
      }
    },
    {
      "cell_type": "markdown",
      "source": [
        "In conclusion, the results obtained from our analysis showcase the effectiveness of both traditional machine learning techniques and deep learning models in predicting Antibody-Derived Tags (ADT) in single-cell sequencing data. Upon uploading the predicted values to Kaggle, we observed Pearson Correlation Coefficient scores ranging from 0.78 to 0.863 across different models.\n",
        "\n",
        "Notably, the deep learning models outperformed the traditional machine learning approaches, yielding higher correlation scores between 0.820 and 0.863. This suggests that the complex relationships between gene expression and protein marker profiles can be better captured and exploited by neural networks, leading to more accurate predictions.\n",
        "\n",
        "Furthermore, our analysis identified several key factors contributing to the success of the deep learning models. Principal Component Analysis (PCA) played a critical role in building stable models by reducing the dimensionality of the input data. Training base models with different optimizers and incorporating diverse layers helped create robust and adaptable models. The utilization of a Learning Rate Scheduler facilitated the efficient exploration of the optimization landscape, expediting the discovery of optimal model configurations. Additionally, hyperparameter tuning and regularization techniques proved essential for constructing generalizable and stable neural networks.\n",
        "\n",
        "Overall, the findings underscore the importance of leveraging deep learning methodologies and employing various optimization strategies and regularization techniques to achieve accurate predictions in single-cell sequencing data analysis. These insights can inform future research endeavors and contribute to advancements in computational methods for biological data analysis."
      ],
      "metadata": {
        "id": "5oP2CS8VXF9X"
      }
    }
  ]
}